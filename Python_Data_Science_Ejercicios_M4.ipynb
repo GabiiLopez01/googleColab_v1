{
  "nbformat": 4,
  "nbformat_minor": 0,
  "metadata": {
    "colab": {
      "provenance": [],
      "authorship_tag": "ABX9TyP+vsJy48dTgMxJA+zLc1yB",
      "include_colab_link": true
    },
    "kernelspec": {
      "name": "python3",
      "display_name": "Python 3"
    },
    "language_info": {
      "name": "python"
    }
  },
  "cells": [
    {
      "cell_type": "markdown",
      "metadata": {
        "id": "view-in-github",
        "colab_type": "text"
      },
      "source": [
        "<a href=\"https://colab.research.google.com/github/GabiiLopez01/googleColab_v1/blob/Desafios_Python_DS/Python_Data_Science_Ejercicios_M4.ipynb\" target=\"_parent\"><img src=\"https://colab.research.google.com/assets/colab-badge.svg\" alt=\"Open In Colab\"/></a>"
      ]
    },
    {
      "cell_type": "markdown",
      "source": [
        "# Entrenando la programación"
      ],
      "metadata": {
        "id": "gpeRu4CXF_vj"
      }
    },
    {
      "cell_type": "markdown",
      "source": [
        "1. Escribre un programa que solicite dos números enteros e imprima todos los números enteros entre ellos."
      ],
      "metadata": {
        "id": "SNMm7NmY5V-i"
      }
    },
    {
      "cell_type": "code",
      "source": [
        "numero_1 = int (input ('Digita un número: '))\n",
        "numero_2 = int (input ('Digita otro número: '))\n",
        "\n",
        "if numero_1 < numero_2:\n",
        "\n",
        "  for i in range(numero_1 + 1, numero_2):\n",
        "    print(i)\n",
        "elif numero_1 > numero_2:\n",
        "  for i in range(numero_1 + 1, numero_2):\n",
        "    print(i)\n",
        "else:\n",
        "  print('Los números son iguales')"
      ],
      "metadata": {
        "colab": {
          "base_uri": "https://localhost:8080/"
        },
        "id": "Jx9_Zk495ufB",
        "outputId": "6bc25525-c553-4405-d0ca-1d72a5f0f682"
      },
      "execution_count": null,
      "outputs": [
        {
          "output_type": "stream",
          "name": "stdout",
          "text": [
            "Digita un número: 1\n",
            "Digita otro número: 6\n",
            "2\n",
            "3\n",
            "4\n",
            "5\n"
          ]
        }
      ]
    },
    {
      "cell_type": "markdown",
      "source": [
        "2. Escribe un programa para calcular cuántos días tomará que la colonia de una bacteria A supere o iguale a la colonia de una bacteria B, basado en tasas de crecimiento del 3% y 1.5%, respectivamente. Supón que la colonia A comienza con 4 elementos y B con 10."
      ],
      "metadata": {
        "id": "XBtkEvLE7o-k"
      }
    },
    {
      "cell_type": "code",
      "source": [
        "# número inicial de bacterias\n",
        "colonia_a = 4\n",
        "colonia_b = 10\n",
        "\n",
        "# tasas de crecimiento de las colonias\n",
        "tasa_a = 0.03\n",
        "tasa_b = 0.015\n",
        "\n",
        "# contador de días\n",
        "dias = 0\n",
        "\n",
        "# la condición que termina el bucle es cuando la colonia A supera a la colonia B\n",
        "while colonia_a <= colonia_b:\n",
        "  # usamos un operador de asignación con multiplicación\n",
        "  colonia_a *= 1 + tasa_a\n",
        "  colonia_b *= 1 + tasa_b\n",
        "  # contamos los días en cada iteración\n",
        "  dias += 1\n",
        "\n",
        "# resultado final\n",
        "print(f'Necesitará {dias} días para que la colonia A supere a la colonia B.')"
      ],
      "metadata": {
        "colab": {
          "base_uri": "https://localhost:8080/"
        },
        "id": "TKsWONWl8GHd",
        "outputId": "47b116f8-12c0-42a3-da50-9ee369b91366"
      },
      "execution_count": null,
      "outputs": [
        {
          "output_type": "stream",
          "name": "stdout",
          "text": [
            "Necesitará 63 días para que la colonia A supere a la colonia B.\n"
          ]
        }
      ]
    },
    {
      "cell_type": "markdown",
      "source": [
        "3. Para procesar una cantidad de 15 datos de evaluaciones de usuarios de un servicio de la empresa, necesitamos verificar si las calificaciones son válidas. Por lo tanto, escribe un programa que recibirá calificaciones del 0 al 5 y verificará si son valores válidos. Si se ingresa una calificación superior a 5 o inferior a 0, se repetirá hasta que el usuario ingrese un valor válido."
      ],
      "metadata": {
        "id": "WzN-pNJG-LhI"
      }
    },
    {
      "cell_type": "code",
      "source": [
        "# bucle para recopilar las 15 notas\n",
        "for i in range(15):\n",
        "  nota = float(input(f'Ingresa la nota del usuario {i}: '))\n",
        "\n",
        "# verifica si la nota está entre 0 y 5\n",
        "# si no lo está, el bucle se repetirá hasta que se obtenga un valor válido\n",
        "while (nota < 0) or (nota > 5):\n",
        "  nota = float(input(f'Nota no válida, ingresa nuevamete la nota del usuario {i}: '))\n",
        "print('Verificación completa. Todas las notas son válidas.')\n",
        "\n"
      ],
      "metadata": {
        "id": "JpL71aBf-tSY",
        "colab": {
          "base_uri": "https://localhost:8080/"
        },
        "outputId": "a2f3869f-ff61-4eb2-f79e-2cc3eff82fe4"
      },
      "execution_count": null,
      "outputs": [
        {
          "output_type": "stream",
          "name": "stdout",
          "text": [
            "Ingresa la nota del usuario 0: 1\n",
            "Ingresa la nota del usuario 1: 2\n",
            "Ingresa la nota del usuario 2: 3\n",
            "Ingresa la nota del usuario 3: 4\n",
            "Ingresa la nota del usuario 4: 5\n",
            "Ingresa la nota del usuario 5: 6\n",
            "Ingresa la nota del usuario 6: 6\n",
            "Ingresa la nota del usuario 7: 7\n",
            "Ingresa la nota del usuario 8: 8\n",
            "Ingresa la nota del usuario 9: 9\n",
            "Ingresa la nota del usuario 10: 10\n",
            "Ingresa la nota del usuario 11: 11\n",
            "Ingresa la nota del usuario 12: 12\n",
            "Ingresa la nota del usuario 13: 16\n",
            "Ingresa la nota del usuario 14: 18\n",
            "Nota no válida, ingresa nuevamete la nota del usuario 14: 19\n",
            "Nota no válida, ingresa nuevamete la nota del usuario 14: 177\n",
            "Nota no válida, ingresa nuevamete la nota del usuario 14: 12\n",
            "Nota no válida, ingresa nuevamete la nota del usuario 14: 5\n",
            "Verificación completa. Todas las notas son válidas.\n"
          ]
        }
      ]
    },
    {
      "cell_type": "markdown",
      "source": [
        "4. Desarrolla un programa que lea un conjunto indefinido de temperaturas en grados Celsius y calcule su promedio. La lectura debe detenerse al ingresar el valor -273°C"
      ],
      "metadata": {
        "id": "1ZxGBWNBGLlW"
      }
    },
    {
      "cell_type": "code",
      "source": [
        "# recopilar la temperatura\n",
        "temperatura = float(input('Ingresa la temperatura en grados Celsius: '))\n",
        "\n",
        "# inicializar un contador y una suma para calcular el promedio\n",
        "contador = 0\n",
        "suma = 0\n",
        "\n",
        "# el código se ejecuta hasta que el valor de temeratura sea igual a -273\n",
        "while temperatura != -273:\n",
        "  # la suma se actualiza sumando la temperatura a la variable suma\n",
        "  suma += temperatura\n",
        "  # se contabiliza la cantidad de valores recopilados con el contador\n",
        "  contador += 1\n",
        "  # recopilar nuevamente la temperatura\n",
        "  temperatura = float(input('Ingresa la temperatura en grados Celsius: '))\n",
        "\n",
        "promedio = suma/contador\n",
        "\n",
        "print(f'El promedio de las temperaturas es: {promedio}')\n"
      ],
      "metadata": {
        "colab": {
          "base_uri": "https://localhost:8080/"
        },
        "id": "Y4iBeRltZ5Ph",
        "outputId": "a46ead5d-e0f5-4c41-cdab-4e214adfb9df"
      },
      "execution_count": null,
      "outputs": [
        {
          "output_type": "stream",
          "name": "stdout",
          "text": [
            "Ingresa la temperatura en grados Celsius: 25\n",
            "Ingresa la temperatura en grados Celsius: 96\n",
            "Ingresa la temperatura en grados Celsius: 45\n",
            "Ingresa la temperatura en grados Celsius: 75\n",
            "Ingresa la temperatura en grados Celsius: 15\n",
            "Ingresa la temperatura en grados Celsius: 26\n",
            "Ingresa la temperatura en grados Celsius: 85\n",
            "Ingresa la temperatura en grados Celsius: -273\n",
            "El promedio de las temperaturas es: 52.42857142857143\n"
          ]
        }
      ]
    },
    {
      "cell_type": "markdown",
      "source": [
        "5. Escribe un programa que calcule el factorial de un número entero proporcionado por el usuario. Recuerda que el factorial de un número entero es el producto de ese número por todos sus antecesores hasta llegar al número 1. Por ejemplo, el factorial de 5 es 5 x 4 x 3 x 2 x 1 = 120."
      ],
      "metadata": {
        "id": "QQ10-lZbGbnG"
      }
    },
    {
      "cell_type": "code",
      "source": [
        "# solicita el número\n",
        "num = int(input('Ingresa un número entero: '))\n",
        "\n",
        "# inicializar el cálculo\n",
        "factorial = 1\n",
        "\n",
        "# el contador comienza con el número máximo y se realizará un conteo decreciente\n",
        "# con el operador -=\n",
        "i = num\n",
        "while i > 0:\n",
        "  # para multiplicar el valor factorial por el número y todos los números por\n",
        "  # debajo de él hasta 1\n",
        "  factorial *= i\n",
        "  i -= 1\n",
        "\n",
        "# imprime el cálculo del factorial\n",
        "print(f'El factorial de {num} es {factorial}')"
      ],
      "metadata": {
        "colab": {
          "base_uri": "https://localhost:8080/"
        },
        "id": "oXCIBzo5bbBP",
        "outputId": "75f43c15-df0f-4ef4-904d-b9ee03be4577"
      },
      "execution_count": null,
      "outputs": [
        {
          "output_type": "stream",
          "name": "stdout",
          "text": [
            "Ingresa un número entero: 15\n",
            "El factorial de 15 es 1307674368000\n"
          ]
        }
      ]
    },
    {
      "cell_type": "markdown",
      "source": [
        "#Momento de proyectos"
      ],
      "metadata": {
        "id": "Z6K3_vMqHFXa"
      }
    },
    {
      "cell_type": "markdown",
      "source": [
        "6. Escribe un programa que genera la tabla de multiplicar de un número entero del 1 al 10, según la elección del usuario. Como ejemplo, para el número 2, la tabla de multiplicar debe mostrarse en el siguiente formato:\n",
        "Tabla de multiplicar del 2:\n",
        "2 x 1 = 2\n",
        "2 x 2 = 4\n",
        "[...]\n",
        "2 x 10 = 20"
      ],
      "metadata": {
        "id": "kpHaJ9u8HIy1"
      }
    },
    {
      "cell_type": "code",
      "source": [
        "# solicita el número\n",
        "num = int(input('Ingresa un número entero del 1 al 10: '))\n",
        "\n",
        "# genera la tabla de multiplicar\n",
        "print(f'Tabla de multiplicar del {num}: ')\n",
        "for i in range(1, 11):\n",
        "  resultado = num * i\n",
        "  print(f'{num} x {i} = {resultado}')"
      ],
      "metadata": {
        "colab": {
          "base_uri": "https://localhost:8080/"
        },
        "id": "MPoxXNV7c_xK",
        "outputId": "6f5fb9fd-51ad-41d0-df9c-b2f56eb0b1d1"
      },
      "execution_count": null,
      "outputs": [
        {
          "output_type": "stream",
          "name": "stdout",
          "text": [
            "Tabla de multiplicar del 5: \n",
            "5 x 1 = 5\n",
            "5 x 2 = 10\n",
            "5 x 3 = 15\n",
            "5 x 4 = 20\n",
            "5 x 5 = 25\n",
            "5 x 6 = 30\n",
            "5 x 7 = 35\n",
            "5 x 8 = 40\n",
            "5 x 9 = 45\n",
            "5 x 10 = 50\n"
          ]
        }
      ]
    },
    {
      "cell_type": "markdown",
      "source": [
        "7. Los números primos tienen diversas aplicaciones en Cienca de Datos, como en criptografía y seguridad. Un número primo es aquel que es divisible solo por sí mismo y por 1. por lo tanto, crea un programa que solicite un número entero y determine si es un número primo o no."
      ],
      "metadata": {
        "id": "As1hoNzVKr5Q"
      }
    },
    {
      "cell_type": "code",
      "source": [
        "# recopilamos el número\n",
        "num_primos = int(input('Ingresa un número entero: '))\n",
        "\n",
        "# los números enteros iguales o menores que 1 no se consideran primos\n",
        "if num_primos > 1:\n",
        "  for i in range(2, num_primos):\n",
        "    # verifica que los residuos de la división entre los números menores que\n",
        "    # num_primos. Si algún residuo es 0, significa que es divisible por otro\n",
        "    # número además de sí mismo y 1\n",
        "    if (num_primos % i) == 0:\n",
        "      print(f'{num_primos} no es un número primo')\n",
        "      break\n",
        "  else:\n",
        "      print(f'{num_primos} es un número primo')\n",
        "else:\n",
        "    print(f'{num_primos} no es un número primo')"
      ],
      "metadata": {
        "colab": {
          "base_uri": "https://localhost:8080/"
        },
        "id": "kzxuvsfCgCWt",
        "outputId": "59ecfdf6-12cb-4a79-da0b-3640d7e7c020"
      },
      "execution_count": null,
      "outputs": [
        {
          "output_type": "stream",
          "name": "stdout",
          "text": [
            "Ingresa un número entero: 6\n",
            "6 no es un número primo\n"
          ]
        }
      ]
    },
    {
      "cell_type": "markdown",
      "source": [
        "8. Vamos a comprender la distribución de edades de los pensionistas de una empresa de seguros. Escribe un programa que lea las edades de una cantidad no informada de clientes y muestre la distribución en los intervalos [0-25], [26-50], [51-75], [76-100]. La entrada de datos se detendrá al ingresar un número negativo."
      ],
      "metadata": {
        "id": "Z2QbXIp0LpkX"
      }
    },
    {
      "cell_type": "code",
      "source": [
        "# recopilar edades de los clientes\n",
        "edad = int(input('Ingresa la edad (o un número negativo para finalizar): '))\n",
        "\n",
        "# inicializar las varialbes de conteo\n",
        "contador_0_25 = 0\n",
        "contador_26_50 = 0\n",
        "contador_51_75 = 0\n",
        "contador_76_100 = 0\n",
        "\n",
        "# el código se ejecuta hasta que el valor de edad sea negativo\n",
        "while edad >= 0:\n",
        "  # contabiliza para cada caso\n",
        "  if edad >= 0 and edad <= 25:\n",
        "    contador_0_25 += 1\n",
        "  elif edad >= 26 and edad <= 50:\n",
        "    contador_26_50 += 1\n",
        "  elif edad >= 51 and edad <= 75:\n",
        "    contador_51_75 += 1\n",
        "  elif edad >= 76 and edad <= 100:\n",
        "    contador_76_100 += 1\n",
        "\n",
        "  # repetir el proceso de entrada de datos hasta que se ingrese un número negativo\n",
        "  edad = int(input('Ingresa la edad (o un número negativo para finalizar): '))\n",
        "\n",
        "# mostrar los resultados\n",
        "print('Distribución de edades: ')\n",
        "print('[0-25]:', contador_0_25)\n",
        "print('[26-50]:', contador_26_50)\n",
        "print('[51-75]:', contador_51_75)\n",
        "print('[76-100]:', contador_76_100)\n"
      ],
      "metadata": {
        "colab": {
          "base_uri": "https://localhost:8080/"
        },
        "id": "gPSZ0qQQgCxx",
        "outputId": "e0946362-10d5-4b2f-97bb-ad1f542e5e5d"
      },
      "execution_count": null,
      "outputs": [
        {
          "output_type": "stream",
          "name": "stdout",
          "text": [
            "Ingresa la edad (o un número negativo para finalizar): 26\n",
            "Ingresa la edad (o un número negativo para finalizar): 45\n",
            "Ingresa la edad (o un número negativo para finalizar): 17\n",
            "Ingresa la edad (o un número negativo para finalizar): 23\n",
            "Ingresa la edad (o un número negativo para finalizar): 58\n",
            "Ingresa la edad (o un número negativo para finalizar): -10\n",
            "Distribución de edades: \n",
            "[0-25]: 2\n",
            "[26-50]: 2\n",
            "[51-75]: 1\n",
            "[76-100]: 0\n"
          ]
        }
      ]
    },
    {
      "cell_type": "markdown",
      "source": [
        "9. En una elección para la gerencia de una empresa con 20 empleados, hay cuatro candidatos. Escribe un programa que calcule al ganador de la elección. La votación se realizó de la siguiente manera:\n",
        "\n",
        "  Cada empleado votó por uno de los cuatro candidatos (representados por los números 1, 2, 3 y 4).\n",
        "\n",
        "  También se contaron los votos nulos (representados por el número 5) y los votos en blanco (representados por el número 6).\n",
        "\n",
        "  Al final de la votación, el programa debe mostrar el número total de votos para cada candidato, los votos nulos y los votos en blanco. Además, debe calcular y mostrar el porcentaje de votos nulos con respecto al total de votos y el porcentaje de votos en blanco con respecto al total de votos."
      ],
      "metadata": {
        "id": "tmGmMnc7NnOq"
      }
    },
    {
      "cell_type": "code",
      "source": [
        "# inicializar variables contadoras\n",
        "votos_candidato1 = 0\n",
        "votos_candidato2 = 0\n",
        "votos_candidato3 = 0\n",
        "votos_candidato4 = 0\n",
        "votos_nulos = 0\n",
        "votos_blanco = 0\n",
        "\n",
        "# inicio del bucle para leer los votos\n",
        "for i in range(0, 10):\n",
        "  voto = int(input('Ingresa tu voto: '))\n",
        "  if voto == 1:\n",
        "    votos_candidato1 += 1\n",
        "  elif voto == 2:\n",
        "    votos_candidato2 += 1\n",
        "  elif voto == 3:\n",
        "    votos_candidato3 += 1\n",
        "  elif voto == 4:\n",
        "    votos_candidato4 += 1\n",
        "  elif voto == 5:\n",
        "    votos_nulos += 1\n",
        "  elif voto == 6:\n",
        "    votos_blanco += 1\n",
        "  else:\n",
        "    print('Voto inválido.')\n",
        "\n",
        "print(f'Votos candidato 1: {votos_candidato1}')\n",
        "print(f'Votos candidato 2: {votos_candidato2}')\n",
        "print(f'Votos candidato 3: {votos_candidato3}')\n",
        "print(f'Votos candidato 4: {votos_candidato4}')\n",
        "print(f'Votos nulos: {votos_nulos}')\n",
        "print(f'Votos en blanco: {votos_blanco}')\n",
        "print(f'Porcentaje de votos nulos: {(votos_nulos/ 20 *100)}')\n",
        "print(f'Porcentaje de votos en blanco: {(votos_blanco / 20 * 100)}')"
      ],
      "metadata": {
        "colab": {
          "base_uri": "https://localhost:8080/"
        },
        "id": "Ga9aeKtkgJU4",
        "outputId": "449e17e4-f3df-41c0-de21-6240926b5824"
      },
      "execution_count": null,
      "outputs": [
        {
          "output_type": "stream",
          "name": "stdout",
          "text": [
            "Ingresa tu voto: 6\n",
            "Ingresa tu voto: 7\n",
            "Voto inválido.\n",
            "Ingresa tu voto: 3\n",
            "Ingresa tu voto: 1\n",
            "Ingresa tu voto: 2\n",
            "Ingresa tu voto: 3\n",
            "Ingresa tu voto: 4\n",
            "Ingresa tu voto: 5\n",
            "Ingresa tu voto: 6\n",
            "Ingresa tu voto: 7\n",
            "Voto inválido.\n",
            "Votos candidato 1: 1\n",
            "Votos candidato 2: 1\n",
            "Votos candidato 3: 2\n",
            "Votos candidato 4: 1\n",
            "Votos nulos: 1\n",
            "Votos en blanco: 2\n",
            "Porcentaje de votos nulos: 5.0\n",
            "Porcentaje de votos en blanco: 10.0\n"
          ]
        }
      ]
    }
  ]
}