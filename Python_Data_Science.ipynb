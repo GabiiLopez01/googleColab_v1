{
  "nbformat": 4,
  "nbformat_minor": 0,
  "metadata": {
    "colab": {
      "provenance": [],
      "include_colab_link": true
    },
    "kernelspec": {
      "name": "python3",
      "display_name": "Python 3"
    },
    "language_info": {
      "name": "python"
    }
  },
  "cells": [
    {
      "cell_type": "markdown",
      "metadata": {
        "id": "view-in-github",
        "colab_type": "text"
      },
      "source": [
        "<a href=\"https://colab.research.google.com/github/GabiiLopez01/googleColab_v1/blob/main/Python_Data_Science.ipynb\" target=\"_parent\"><img src=\"https://colab.research.google.com/assets/colab-badge.svg\" alt=\"Open In Colab\"/></a>"
      ]
    },
    {
      "cell_type": "markdown",
      "source": [
        "# Python para Data Science\n",
        "\n",
        "Notebook para el curso de Python para Data Science publicado en la plataforma de [Alura Latam](https://www.aluracursos.com/)"
      ],
      "metadata": {
        "id": "lQx6Mmv0OJyT"
      }
    },
    {
      "cell_type": "markdown",
      "source": [
        "# Introducción a Python\n",
        "¡Vamos a conocer Python, nuestro ambiente de estudio, y también generaremos nuestro primer código en este lenguaje!"
      ],
      "metadata": {
        "id": "7SiB6JIpYKmY"
      }
    },
    {
      "cell_type": "markdown",
      "source": [
        "# Manipulando los datos\n",
        "\n",
        "Vamos a aprender sobre las variables en Python, cómo declararlas y utilizarlas además de conocer otros comandos de este lenguaje. :D"
      ],
      "metadata": {
        "id": "iP8uWQmFYFRs"
      }
    },
    {
      "cell_type": "markdown",
      "source": [
        "## Variables\n",
        "\n",
        "En Data Science trabajamos con varios tipos de datos e informaciones, entonces es esencial saber cómo trabajar con las variables."
      ],
      "metadata": {
        "id": "sLNVmnTbag1Z"
      }
    },
    {
      "cell_type": "markdown",
      "source": [
        "Las variables en Python se crean cuando atribuimos un valor a ella.\n",
        "\n",
        "Para esto, colocamos el nombre de la variable, el signo de igual (`=`) y el valor que queremos atribuirle."
      ],
      "metadata": {
        "id": "lsCY0wahAbf6"
      }
    },
    {
      "cell_type": "code",
      "source": [
        "5"
      ],
      "metadata": {
        "id": "vsHh5buZADND",
        "colab": {
          "base_uri": "https://localhost:8080/"
        },
        "outputId": "96fb0979-87c6-4905-9049-0a38e0430529"
      },
      "execution_count": null,
      "outputs": [
        {
          "output_type": "execute_result",
          "data": {
            "text/plain": [
              "5"
            ]
          },
          "metadata": {},
          "execution_count": 10
        }
      ]
    },
    {
      "cell_type": "code",
      "source": [
        "id(5)"
      ],
      "metadata": {
        "id": "sivPtqSjADQV",
        "colab": {
          "base_uri": "https://localhost:8080/"
        },
        "outputId": "0cb48e3b-e3e1-4268-bdd5-e68b52224fa0"
      },
      "execution_count": null,
      "outputs": [
        {
          "output_type": "execute_result",
          "data": {
            "text/plain": [
              "10750984"
            ]
          },
          "metadata": {},
          "execution_count": 12
        }
      ]
    },
    {
      "cell_type": "code",
      "source": [
        "edad = 5"
      ],
      "metadata": {
        "id": "cD_jw1hgTi-O"
      },
      "execution_count": null,
      "outputs": []
    },
    {
      "cell_type": "code",
      "source": [
        "print(id(edad))\n",
        "print(id(5))"
      ],
      "metadata": {
        "id": "JC8jO47wADlm",
        "colab": {
          "base_uri": "https://localhost:8080/"
        },
        "outputId": "45ecef99-e768-4079-e6a8-21b28894c271"
      },
      "execution_count": null,
      "outputs": [
        {
          "output_type": "stream",
          "name": "stdout",
          "text": [
            "10750984\n",
            "10750984\n"
          ]
        }
      ]
    },
    {
      "cell_type": "code",
      "source": [
        "numerocinco = 5"
      ],
      "metadata": {
        "id": "lwYN8XzITxhD"
      },
      "execution_count": null,
      "outputs": []
    },
    {
      "cell_type": "code",
      "source": [
        "id(numerocinco)"
      ],
      "metadata": {
        "colab": {
          "base_uri": "https://localhost:8080/"
        },
        "id": "s-O33k-RT4B9",
        "outputId": "84e3164e-e27c-483c-efe0-43e15f0d09b0"
      },
      "execution_count": null,
      "outputs": [
        {
          "output_type": "execute_result",
          "data": {
            "text/plain": [
              "10750984"
            ]
          },
          "metadata": {},
          "execution_count": 16
        }
      ]
    },
    {
      "cell_type": "code",
      "source": [
        "nombre = 'Gabriela'\n",
        "id(nombre)"
      ],
      "metadata": {
        "colab": {
          "base_uri": "https://localhost:8080/"
        },
        "id": "r0t0fEFNT8aH",
        "outputId": "e504eaaf-8424-48b7-bcf2-fd11daf799cd"
      },
      "execution_count": null,
      "outputs": [
        {
          "output_type": "execute_result",
          "data": {
            "text/plain": [
              "139666679697264"
            ]
          },
          "metadata": {},
          "execution_count": 17
        }
      ]
    },
    {
      "cell_type": "code",
      "source": [
        "id('Gabriela')"
      ],
      "metadata": {
        "colab": {
          "base_uri": "https://localhost:8080/"
        },
        "id": "ytOa0NKOUHAp",
        "outputId": "77799e5e-e091-4872-fc41-e4fc31114aa9"
      },
      "execution_count": null,
      "outputs": [
        {
          "output_type": "execute_result",
          "data": {
            "text/plain": [
              "139666679697264"
            ]
          },
          "metadata": {},
          "execution_count": 18
        }
      ]
    },
    {
      "cell_type": "code",
      "source": [
        "nombre2 = 'Gabi'"
      ],
      "metadata": {
        "id": "vYZXA7nEU7ZF"
      },
      "execution_count": null,
      "outputs": []
    },
    {
      "cell_type": "code",
      "source": [
        "id(nombre2)"
      ],
      "metadata": {
        "colab": {
          "base_uri": "https://localhost:8080/"
        },
        "id": "aZGMqRyNVHGK",
        "outputId": "ddb437f8-eb1d-4222-d929-40638b7244d1"
      },
      "execution_count": null,
      "outputs": [
        {
          "output_type": "execute_result",
          "data": {
            "text/plain": [
              "139666679704432"
            ]
          },
          "metadata": {},
          "execution_count": 20
        }
      ]
    },
    {
      "cell_type": "code",
      "source": [
        "id(4)"
      ],
      "metadata": {
        "colab": {
          "base_uri": "https://localhost:8080/"
        },
        "id": "W5aa54wzVMR8",
        "outputId": "2909a730-6ac7-491a-d98b-639227538021"
      },
      "execution_count": null,
      "outputs": [
        {
          "output_type": "execute_result",
          "data": {
            "text/plain": [
              "10750952"
            ]
          },
          "metadata": {},
          "execution_count": 21
        }
      ]
    },
    {
      "cell_type": "markdown",
      "source": [
        "Existen algunos tipos de nombres que **no** podemos definir para las variables:\n",
        "\n",
        "- **Nombres que comiencen con números**\n",
        "  - Ejemplos: `10_notas`, `2_nombre_casa`, etc.\n",
        "- **Palabras separadas por espacio**\n",
        "  - Ejemplos: `Nombre escuela`, `notas estudiantes`, etc.\n",
        "- **Nombres de funciones de Python**\n",
        "  - Ejemplos: `print`, `type`, etc."
      ],
      "metadata": {
        "id": "om2N0jHKAzwL"
      }
    },
    {
      "cell_type": "markdown",
      "source": [
        "> Las letras mayúsculas y minúsculas generarán diferentes variables. La variable `edad` es diferente de `Edad` que a su vez es diferente de `EDAD`:\n",
        "``` Python\n",
        "edad = 1\n",
        "Edad = 2\n",
        "EDAD = 3\n",
        "_edad = 4\n",
        "_edad_ = 5\n",
        "print(edad, Edad, EDAD, _edad, _edad_)\n",
        "1 2 3 4 5\n",
        "```"
      ],
      "metadata": {
        "id": "A19vY2GVMujB"
      }
    },
    {
      "cell_type": "markdown",
      "source": [
        "## Tipos de variables\n",
        "\n",
        "Cada variable contiene una clase específica con respecto al tipo de objeto al cual esta hace referencia. Estas clases serán diferentes de acuerdo con el tipo de dato que le sea atribuido a una variable.\n",
        "\n",
        "Para conocer la clase de cada elemento usamos la función [`type()`](https://docs.python.org/3/library/functions.html#type)"
      ],
      "metadata": {
        "id": "UqhzuBhBHsps"
      }
    },
    {
      "cell_type": "code",
      "source": [
        "edad = 5"
      ],
      "metadata": {
        "id": "J5a9t73A_-PX"
      },
      "execution_count": null,
      "outputs": []
    },
    {
      "cell_type": "code",
      "source": [
        "type(edad)"
      ],
      "metadata": {
        "id": "rqmO1ew-_-So",
        "colab": {
          "base_uri": "https://localhost:8080/"
        },
        "outputId": "f4aa55aa-fe61-4603-e2c7-74d460ab1c39"
      },
      "execution_count": null,
      "outputs": [
        {
          "output_type": "execute_result",
          "data": {
            "text/plain": [
              "int"
            ]
          },
          "metadata": {},
          "execution_count": 23
        }
      ]
    },
    {
      "cell_type": "code",
      "source": [
        "promedio = 9.5\n",
        "type(promedio)"
      ],
      "metadata": {
        "id": "xkrPMkeY_-cP",
        "colab": {
          "base_uri": "https://localhost:8080/"
        },
        "outputId": "f42d06ea-8c15-4a1f-fdf7-933bfc0d54ba"
      },
      "execution_count": null,
      "outputs": [
        {
          "output_type": "execute_result",
          "data": {
            "text/plain": [
              "float"
            ]
          },
          "metadata": {},
          "execution_count": 24
        }
      ]
    },
    {
      "cell_type": "code",
      "source": [
        "nombre = 'Gabi'\n",
        "type('Gabi')"
      ],
      "metadata": {
        "colab": {
          "base_uri": "https://localhost:8080/"
        },
        "id": "OSk3lA5xXAnX",
        "outputId": "9b45d834-2efe-4be4-906e-3d7f612c124e"
      },
      "execution_count": null,
      "outputs": [
        {
          "output_type": "execute_result",
          "data": {
            "text/plain": [
              "str"
            ]
          },
          "metadata": {},
          "execution_count": 25
        }
      ]
    },
    {
      "cell_type": "code",
      "source": [
        "v = True\n",
        "type(v)"
      ],
      "metadata": {
        "colab": {
          "base_uri": "https://localhost:8080/"
        },
        "id": "gOrqce3-XKqr",
        "outputId": "e49bb0b8-43e2-4dae-a624-4267e53c928d"
      },
      "execution_count": null,
      "outputs": [
        {
          "output_type": "execute_result",
          "data": {
            "text/plain": [
              "bool"
            ]
          },
          "metadata": {},
          "execution_count": 26
        }
      ]
    },
    {
      "cell_type": "markdown",
      "source": [
        "En un conjunto de datos escolares podemos tener varios tipos de informaciones. Supongamos que tenemos acceso a la ficha de datos del alumno *Penélope Camacho*, cómo transformamos este nombre en variables de Python?\n",
        "\n",
        "#### Ficha:\n",
        "\n",
        "- Nombre: Penélope Camacho\n",
        "- Edad: 11 años\n",
        "- Promedio del semestre: 9,75\n",
        "- Situación de aprobación: Verdadera (aprobado)"
      ],
      "metadata": {
        "id": "O-FxDumfWu0C"
      }
    },
    {
      "cell_type": "code",
      "source": [
        "nombre_estudiante = 'Penélope Camacho'\n",
        "edad_estudiante = 11\n",
        "promedio_estudiante = 9.75\n",
        "aprobado = True\n",
        "\n",
        "print(nombre_estudiante, edad_estudiante, promedio_estudiante,aprobado)"
      ],
      "metadata": {
        "id": "FabQ7jQf_8Xt",
        "colab": {
          "base_uri": "https://localhost:8080/"
        },
        "outputId": "5b963288-132b-4fea-fae7-c6548b4b2dd1"
      },
      "execution_count": null,
      "outputs": [
        {
          "output_type": "stream",
          "name": "stdout",
          "text": [
            "Penélope Camacho 11 9.75 True\n"
          ]
        }
      ]
    },
    {
      "cell_type": "code",
      "source": [
        "print(type(nombre_estudiante), type(edad_estudiante), type(promedio_estudiante), type(aprobado))"
      ],
      "metadata": {
        "colab": {
          "base_uri": "https://localhost:8080/"
        },
        "id": "RyyN5OUqXvFk",
        "outputId": "4a4b4881-34ca-4dd0-e713-5b223db90e3b"
      },
      "execution_count": null,
      "outputs": [
        {
          "output_type": "stream",
          "name": "stdout",
          "text": [
            "<class 'str'> <class 'int'> <class 'float'> <class 'bool'>\n"
          ]
        }
      ]
    },
    {
      "cell_type": "code",
      "source": [],
      "metadata": {
        "id": "IZLQnZUj_8bd"
      },
      "execution_count": null,
      "outputs": []
    },
    {
      "cell_type": "markdown",
      "source": [
        "## Variables numéricas\n",
        "\n",
        "Entre los tipos de datos numéricos vamos a enfocarnos en los tipos `entero` y `float`."
      ],
      "metadata": {
        "id": "KFq_8Sxf-OG0"
      }
    },
    {
      "cell_type": "markdown",
      "source": [
        "Tenemos una tabla de información sobre los diversos cargos, cantidad de personas empleadas y el salario correspondiente:\n",
        "\n",
        "|Cargo | Cantidad | Salario|\n",
        "|---|---|---|\n",
        "|Vigilante | 5 | 300 |\n",
        "|Docente | 16| 500|\n",
        "|Coordinador| 2 |600|\n",
        "\n",
        "Necesitamos trabajar con estos datos para obtener:\n",
        "\n",
        "- La cantidad total de empleados;\n",
        "- La diferencia entre el salario más bajo y más alto; y\n",
        "- El promedio ponderado de los salarios de los empleados de la escuela."
      ],
      "metadata": {
        "id": "8_HYUbkVYdQY"
      }
    },
    {
      "cell_type": "code",
      "source": [
        "c_vigilante = 5\n",
        "s_vigilante = 300\n",
        "\n",
        "c_docente = 16\n",
        "s_docente = 500\n",
        "\n",
        "c_coordinador = 2\n",
        "s_coordinador = 600"
      ],
      "metadata": {
        "id": "F_X-wxdm_5Ys"
      },
      "execution_count": null,
      "outputs": []
    },
    {
      "cell_type": "code",
      "source": [
        "total_empleados = c_vigilante + c_docente + c_coordinador\n",
        "total_empleados"
      ],
      "metadata": {
        "id": "gKmBbhII_5b9",
        "colab": {
          "base_uri": "https://localhost:8080/"
        },
        "outputId": "924f0eee-4f9d-4972-8948-57fdf4357335"
      },
      "execution_count": null,
      "outputs": [
        {
          "output_type": "execute_result",
          "data": {
            "text/plain": [
              "23"
            ]
          },
          "metadata": {},
          "execution_count": 30
        }
      ]
    },
    {
      "cell_type": "code",
      "source": [
        "diferencia_salario = s_coordinador - s_vigilante\n",
        "diferencia_salario"
      ],
      "metadata": {
        "id": "fIugsxNy_53j",
        "colab": {
          "base_uri": "https://localhost:8080/"
        },
        "outputId": "dc162b07-150e-4965-f984-3adae41ea467"
      },
      "execution_count": null,
      "outputs": [
        {
          "output_type": "execute_result",
          "data": {
            "text/plain": [
              "300"
            ]
          },
          "metadata": {},
          "execution_count": 31
        }
      ]
    },
    {
      "cell_type": "code",
      "source": [
        "promedio_salarios = (c_vigilante * s_vigilante + c_docente * s_docente\n",
        "                     + c_coordinador * s_coordinador)/ total_empleados\n",
        "promedio_salarios"
      ],
      "metadata": {
        "colab": {
          "base_uri": "https://localhost:8080/"
        },
        "id": "M4M847v-YzTm",
        "outputId": "38321d9d-f9d3-42c3-8f75-12e8d10e7649"
      },
      "execution_count": null,
      "outputs": [
        {
          "output_type": "execute_result",
          "data": {
            "text/plain": [
              "465.2173913043478"
            ]
          },
          "metadata": {},
          "execution_count": 34
        }
      ]
    },
    {
      "cell_type": "code",
      "source": [
        "type(promedio_salarios)"
      ],
      "metadata": {
        "colab": {
          "base_uri": "https://localhost:8080/"
        },
        "id": "K_iebfjCZidD",
        "outputId": "d2e55e90-4000-44fc-c79e-fc29a8acd972"
      },
      "execution_count": null,
      "outputs": [
        {
          "output_type": "execute_result",
          "data": {
            "text/plain": [
              "float"
            ]
          },
          "metadata": {},
          "execution_count": 35
        }
      ]
    },
    {
      "cell_type": "code",
      "source": [
        "type(total_empleados)"
      ],
      "metadata": {
        "colab": {
          "base_uri": "https://localhost:8080/"
        },
        "id": "ApUkm9SFZmf0",
        "outputId": "058716dc-35fb-4eda-cb78-281f9d6af678"
      },
      "execution_count": null,
      "outputs": [
        {
          "output_type": "execute_result",
          "data": {
            "text/plain": [
              "int"
            ]
          },
          "metadata": {},
          "execution_count": 36
        }
      ]
    },
    {
      "cell_type": "markdown",
      "source": [
        "## Strings"
      ],
      "metadata": {
        "id": "yQy7b0ZWoD-P"
      }
    },
    {
      "cell_type": "markdown",
      "source": [
        "Strings hace referencia a un conjunto de caracteres formando un texto.\n",
        "\n",
        "Podemos crear Strings cuando atribuimos un dato a una variable entre comillas sencillas (`'`) o comillas dobles (`\"`)."
      ],
      "metadata": {
        "id": "vlo2-DXusv3s"
      }
    },
    {
      "cell_type": "code",
      "source": [
        "t = 'Alura'\n",
        "type(t)"
      ],
      "metadata": {
        "id": "ityEWqvh_2wK",
        "colab": {
          "base_uri": "https://localhost:8080/"
        },
        "outputId": "7b9a9da6-8ab7-48c9-9284-a2890a7279dc"
      },
      "execution_count": null,
      "outputs": [
        {
          "output_type": "execute_result",
          "data": {
            "text/plain": [
              "str"
            ]
          },
          "metadata": {},
          "execution_count": 37
        }
      ]
    },
    {
      "cell_type": "markdown",
      "source": [
        "Las variables textuales son objetos que poseen métodos que nos ayudan a formatear strings. Los métodos los podemos ejecutar al definir un objeto de acuerdo con la siguiente estructura:\n",
        "\n",
        "```\n",
        "objeto.metodo()\n",
        "```\n",
        "\n",
        "Existen métodos que no necesitan los `()`, siempre es una buena práctica verificar la documentación para cada caso."
      ],
      "metadata": {
        "id": "2e9UD_CCxqz_"
      }
    },
    {
      "cell_type": "markdown",
      "source": [
        "---\n",
        "**Situación:**\n",
        "\n",
        "Recibimos una variable con el nombre de una profesora de la escuela para añadirla a los registros. Sin embargo, necesitamos darle un tratamiento a este texto antes de insertarlo al sistema."
      ],
      "metadata": {
        "id": "p6aPmMGP4tf9"
      }
    },
    {
      "cell_type": "code",
      "source": [
        "texto = '  Micaela de los Sanyos '\n",
        "id(texto)"
      ],
      "metadata": {
        "id": "icDWtYTjBO0n",
        "colab": {
          "base_uri": "https://localhost:8080/"
        },
        "outputId": "1a7a1d06-8686-4318-d072-5386ffa31604"
      },
      "execution_count": null,
      "outputs": [
        {
          "output_type": "execute_result",
          "data": {
            "text/plain": [
              "139666559271920"
            ]
          },
          "metadata": {},
          "execution_count": 38
        }
      ]
    },
    {
      "cell_type": "markdown",
      "source": [
        "El objetivo final es que el nombre aparezca de la siguiente forma:\n",
        "\n",
        "```\n",
        "'MICAELA DE LOS SANTOS'\n",
        "```"
      ],
      "metadata": {
        "id": "Dg2ZXSZOGzjC"
      }
    },
    {
      "cell_type": "markdown",
      "source": [
        "### [`str.upper()` ](https://docs.python.org/3/library/stdtypes.html#str.upper)\n",
        "Convierte una string a mayúsculas."
      ],
      "metadata": {
        "id": "iVTAD8q702eN"
      }
    },
    {
      "cell_type": "code",
      "source": [
        "texto.upper()"
      ],
      "metadata": {
        "id": "wMVshJrY_ZXh",
        "colab": {
          "base_uri": "https://localhost:8080/",
          "height": 35
        },
        "outputId": "b8f4eee3-2ce0-4689-fbdc-f62cad66abcc"
      },
      "execution_count": null,
      "outputs": [
        {
          "output_type": "execute_result",
          "data": {
            "text/plain": [
              "'  MICAELA DE LOS SANYOS '"
            ],
            "application/vnd.google.colaboratory.intrinsic+json": {
              "type": "string"
            }
          },
          "metadata": {},
          "execution_count": 39
        }
      ]
    },
    {
      "cell_type": "markdown",
      "source": [
        "### [`str.lower()`](https://docs.python.org/3/library/stdtypes.html#str.lower)\n",
        "Convierte una string a minúsculas."
      ],
      "metadata": {
        "id": "hbDSBtMV1TpG"
      }
    },
    {
      "cell_type": "code",
      "source": [
        "texto.lower()"
      ],
      "metadata": {
        "id": "px3yEeNH_YK4",
        "colab": {
          "base_uri": "https://localhost:8080/",
          "height": 35
        },
        "outputId": "a25e85e6-2575-43e7-bc40-a818ca9f29ff"
      },
      "execution_count": null,
      "outputs": [
        {
          "output_type": "execute_result",
          "data": {
            "text/plain": [
              "'  micaela de los sanyos '"
            ],
            "application/vnd.google.colaboratory.intrinsic+json": {
              "type": "string"
            }
          },
          "metadata": {},
          "execution_count": 40
        }
      ]
    },
    {
      "cell_type": "markdown",
      "source": [
        "### [`str.strip()`](https://docs.python.org/3/library/stdtypes.html#str.strip)\n",
        "Elimina los espacios en blanco al inicio y al final de una string."
      ],
      "metadata": {
        "id": "kz47eWM11gii"
      }
    },
    {
      "cell_type": "code",
      "source": [
        "texto.strip()"
      ],
      "metadata": {
        "id": "76dLgNa4_XAe",
        "colab": {
          "base_uri": "https://localhost:8080/",
          "height": 35
        },
        "outputId": "1c967da1-e1c3-487e-fe5a-374aa0661149"
      },
      "execution_count": null,
      "outputs": [
        {
          "output_type": "execute_result",
          "data": {
            "text/plain": [
              "'Micaela de los Sanyos'"
            ],
            "application/vnd.google.colaboratory.intrinsic+json": {
              "type": "string"
            }
          },
          "metadata": {},
          "execution_count": 41
        }
      ]
    },
    {
      "cell_type": "markdown",
      "source": [
        "### [`str.replace(antiguo, nuevo)`](https://docs.python.org/3/library/stdtypes.html#str.replace)\n",
        "\n",
        "Sustituye todas las ocurrencias del texto \"antiguo\" en la string por el  \"nuevo\"."
      ],
      "metadata": {
        "id": "m6notiyS1SCV"
      }
    },
    {
      "cell_type": "code",
      "source": [
        "texto.replace('y', 't')"
      ],
      "metadata": {
        "id": "PNXAixtE_V6R",
        "colab": {
          "base_uri": "https://localhost:8080/",
          "height": 35
        },
        "outputId": "085299f9-fc91-4736-e71e-b0e17a85f046"
      },
      "execution_count": null,
      "outputs": [
        {
          "output_type": "execute_result",
          "data": {
            "text/plain": [
              "'  Micaela de los Santos '"
            ],
            "application/vnd.google.colaboratory.intrinsic+json": {
              "type": "string"
            }
          },
          "metadata": {},
          "execution_count": 42
        }
      ]
    },
    {
      "cell_type": "markdown",
      "source": [
        "### Observaciones\n",
        "\n",
        "1. Los métodos devuelven una **tranformación**, no son ejecutados directamente sobre la variable donde está almacenado el texto.\n",
        "\n",
        "2. Adicionalmente, podemos acumular la ejecución de los métodos."
      ],
      "metadata": {
        "id": "zukvEjhG2Rcn"
      }
    },
    {
      "cell_type": "code",
      "source": [
        "texto"
      ],
      "metadata": {
        "colab": {
          "base_uri": "https://localhost:8080/",
          "height": 35
        },
        "id": "klrP15EDa1tp",
        "outputId": "406e8ff1-87ff-4fce-d4a0-62a0dc1cd952"
      },
      "execution_count": null,
      "outputs": [
        {
          "output_type": "execute_result",
          "data": {
            "text/plain": [
              "'  Micaela de los Sanyos '"
            ],
            "application/vnd.google.colaboratory.intrinsic+json": {
              "type": "string"
            }
          },
          "metadata": {},
          "execution_count": 45
        }
      ]
    },
    {
      "cell_type": "code",
      "source": [
        "id(texto)"
      ],
      "metadata": {
        "colab": {
          "base_uri": "https://localhost:8080/"
        },
        "id": "1jNozVfWa4Hk",
        "outputId": "ca2c6468-650c-4e91-8cda-fa445dc2fcd7"
      },
      "execution_count": null,
      "outputs": [
        {
          "output_type": "execute_result",
          "data": {
            "text/plain": [
              "139666559271920"
            ]
          },
          "metadata": {},
          "execution_count": 47
        }
      ]
    },
    {
      "cell_type": "code",
      "source": [],
      "metadata": {
        "id": "JjkBRklr_T5n"
      },
      "execution_count": null,
      "outputs": []
    },
    {
      "cell_type": "markdown",
      "source": [
        "Para que la transformación se pueda ejecutar debemos atribuir la salida de las transformaciones a las variables"
      ],
      "metadata": {
        "id": "1KbwfVut2h6I"
      }
    },
    {
      "cell_type": "code",
      "source": [
        "nuevo_texto = texto.strip().replace('y', 't').upper()\n",
        "print(nuevo_texto)\n",
        "print(id(texto), id(nuevo_texto))"
      ],
      "metadata": {
        "id": "ocPP-Jaj_SJI",
        "colab": {
          "base_uri": "https://localhost:8080/"
        },
        "outputId": "840983e6-c078-4616-fd58-1280d28c5ee5"
      },
      "execution_count": null,
      "outputs": [
        {
          "output_type": "stream",
          "name": "stdout",
          "text": [
            "MICAELA DE LOS SANTOS\n",
            "139666559271920 139666559249312\n"
          ]
        }
      ]
    },
    {
      "cell_type": "code",
      "source": [
        "texto = texto.strip().replace('y', 't').upper()\n",
        "print(texto)\n",
        "print(id(texto), id(nuevo_texto))"
      ],
      "metadata": {
        "id": "m1RvLGZZ_SP3",
        "colab": {
          "base_uri": "https://localhost:8080/"
        },
        "outputId": "23570ce1-a007-403b-864f-2a455c0b338d"
      },
      "execution_count": null,
      "outputs": [
        {
          "output_type": "stream",
          "name": "stdout",
          "text": [
            "MICAELA DE LOS SANTOS\n",
            "139666559253472 139666559249312\n"
          ]
        }
      ]
    },
    {
      "cell_type": "markdown",
      "source": [
        "## Capturando datos\n",
        "\n",
        "En algunas aplicaciones necesitamos capturar los valores del usuario de nuestro proyecto. En python, logramos capturar los datos del usuario a través del comando [`input()`](https://docs.python.org/3/library/functions.html#input).\n",
        "\n",
        "Para ejecutar la captura debemos atribuir el resultado de esta función a una variable."
      ],
      "metadata": {
        "id": "0h9Fh5G9kHCa"
      }
    },
    {
      "cell_type": "code",
      "source": [
        "nombre = input('escribe tu nombre: ')"
      ],
      "metadata": {
        "id": "zbH_9i3q_PdY",
        "colab": {
          "base_uri": "https://localhost:8080/"
        },
        "outputId": "5cdf5bcd-78c4-4380-bfbb-b44af977ca99"
      },
      "execution_count": null,
      "outputs": [
        {
          "name": "stdout",
          "output_type": "stream",
          "text": [
            "escribe tu nombre: Gabi\n"
          ]
        }
      ]
    },
    {
      "cell_type": "code",
      "source": [
        "type(nombre)"
      ],
      "metadata": {
        "id": "JZy1Q9Tl_PgL",
        "colab": {
          "base_uri": "https://localhost:8080/"
        },
        "outputId": "0e006e83-99b9-4699-c78e-d231fe4a8c4c"
      },
      "execution_count": null,
      "outputs": [
        {
          "output_type": "execute_result",
          "data": {
            "text/plain": [
              "str"
            ]
          },
          "metadata": {},
          "execution_count": 53
        }
      ]
    },
    {
      "cell_type": "markdown",
      "source": [
        "La salida de este comando siempre será una *string*. Esto quiere decir que aunque capturemos un valor de variable numérica, este será de tipo string.\n",
        "\n",
        "Entonces, será necesario **convertir el resultado cuando no se desea utilizar el valor como tipo string**."
      ],
      "metadata": {
        "id": "7z7hcLCk_aCY"
      }
    },
    {
      "cell_type": "markdown",
      "source": [
        "Existen funciones para la conversión de valores:\n",
        "\n",
        "- Enteros: [`int(dato_para_conversion)`](https://docs.python.org/3/library/functions.html#int)\n",
        "- Coma flotante: [`float(dato_para_conversion)`](https://docs.python.org/3/library/functions.html#float)\n",
        "- String: [`str(dato_para_conversion)`](https://docs.python.org/3/library/functions.html#func-str)\n",
        "- Booleano: [`bool(dato_para_conversion)`](https://docs.python.org/3/library/functions.html#bool)"
      ],
      "metadata": {
        "id": "TOlegATj1Jfp"
      }
    },
    {
      "cell_type": "code",
      "source": [
        "ano_admision = int(input('Digita el año de admisión: '))"
      ],
      "metadata": {
        "id": "M2ueeH6l_NMe",
        "colab": {
          "base_uri": "https://localhost:8080/"
        },
        "outputId": "5301257e-39d0-4e90-f63c-27a6d10091fa"
      },
      "execution_count": null,
      "outputs": [
        {
          "name": "stdout",
          "output_type": "stream",
          "text": [
            "Digita el año de admisión: 2024\n"
          ]
        }
      ]
    },
    {
      "cell_type": "code",
      "source": [
        "type(ano_admision)"
      ],
      "metadata": {
        "id": "xfWwuViK_NUn",
        "colab": {
          "base_uri": "https://localhost:8080/"
        },
        "outputId": "3d4993ca-d41f-4d8b-e7e2-647cc06a1d1b"
      },
      "execution_count": null,
      "outputs": [
        {
          "output_type": "execute_result",
          "data": {
            "text/plain": [
              "int"
            ]
          },
          "metadata": {},
          "execution_count": 7
        }
      ]
    },
    {
      "cell_type": "code",
      "source": [
        "nota_admision = float(input('Digita la nota de admisión: '))"
      ],
      "metadata": {
        "id": "uFCHDyew_NZm",
        "colab": {
          "base_uri": "https://localhost:8080/"
        },
        "outputId": "b030e23a-f329-4b54-b340-af5aaa3d8496"
      },
      "execution_count": null,
      "outputs": [
        {
          "name": "stdout",
          "output_type": "stream",
          "text": [
            "Digita la nota de admisión: 9.3\n"
          ]
        }
      ]
    },
    {
      "cell_type": "code",
      "source": [
        "type(nota_admision)"
      ],
      "metadata": {
        "id": "lDzDU67-pq07",
        "outputId": "9ed00e46-ce6d-4ea9-f4df-03815a005db6",
        "colab": {
          "base_uri": "https://localhost:8080/"
        }
      },
      "execution_count": null,
      "outputs": [
        {
          "output_type": "execute_result",
          "data": {
            "text/plain": [
              "float"
            ]
          },
          "metadata": {},
          "execution_count": 9
        }
      ]
    },
    {
      "cell_type": "code",
      "source": [
        "ano_admision + ano_salida"
      ],
      "metadata": {
        "id": "WDjVnsDApveF",
        "outputId": "8d6c0bb9-4a2b-4761-ea2e-fde401765b16",
        "colab": {
          "base_uri": "https://localhost:8080/",
          "height": 35
        }
      },
      "execution_count": null,
      "outputs": [
        {
          "output_type": "execute_result",
          "data": {
            "text/plain": [
              "'20242025'"
            ],
            "application/vnd.google.colaboratory.intrinsic+json": {
              "type": "string"
            }
          },
          "metadata": {},
          "execution_count": 5
        }
      ]
    },
    {
      "cell_type": "markdown",
      "source": [
        "Trataremos de representar mejor ahora el resultado de la transformación que obtuvimos. Nosotros podemos formatear y presentar nuestro resultado mezclando strings con valores no textuales.\n",
        "\n",
        "Para ello utilizamos la estructura de formatación `f` con strings."
      ],
      "metadata": {
        "id": "yNI2-XTbB3aS"
      }
    },
    {
      "cell_type": "code",
      "source": [
        "print(f'\\tEl año de admisión fue {ano_admision} \\n\\tLa nota de admisión fue: {nota_admision}')"
      ],
      "metadata": {
        "id": "keJjA5N9_K5i",
        "colab": {
          "base_uri": "https://localhost:8080/"
        },
        "outputId": "e4276da6-351c-4319-83d8-192fa7b9d9a7"
      },
      "execution_count": null,
      "outputs": [
        {
          "output_type": "stream",
          "name": "stdout",
          "text": [
            "\tEl año de admisión fue 2024 \n",
            "\tLa nota de admisión fue: 9.3\n"
          ]
        }
      ]
    },
    {
      "cell_type": "markdown",
      "source": [
        "### Estándar Unicode\n",
        "[Unicode Statistics](https://www.unicode.org/versions/stats/)"
      ],
      "metadata": {
        "id": "VwVxMPx2rlNe"
      }
    },
    {
      "cell_type": "code",
      "source": [
        "chr(64)"
      ],
      "metadata": {
        "id": "0jf-HhwcrGx-",
        "outputId": "a4ffbc0b-4aab-4bf3-b19e-21c19fa9c821",
        "colab": {
          "base_uri": "https://localhost:8080/",
          "height": 35
        }
      },
      "execution_count": null,
      "outputs": [
        {
          "output_type": "execute_result",
          "data": {
            "text/plain": [
              "'@'"
            ],
            "application/vnd.google.colaboratory.intrinsic+json": {
              "type": "string"
            }
          },
          "metadata": {},
          "execution_count": 11
        }
      ]
    },
    {
      "cell_type": "code",
      "source": [
        "chr(72) + chr(111) + chr(108) + chr(97)"
      ],
      "metadata": {
        "id": "Y7-hfWeGrRc-",
        "outputId": "036805f6-e65e-406e-a5ae-47b5746b0384",
        "colab": {
          "base_uri": "https://localhost:8080/",
          "height": 35
        }
      },
      "execution_count": null,
      "outputs": [
        {
          "output_type": "execute_result",
          "data": {
            "text/plain": [
              "'Hola'"
            ],
            "application/vnd.google.colaboratory.intrinsic+json": {
              "type": "string"
            }
          },
          "metadata": {},
          "execution_count": 12
        }
      ]
    },
    {
      "cell_type": "markdown",
      "source": [
        "###Diversos Formatos de print()"
      ],
      "metadata": {
        "id": "-ktA2fxfr9nt"
      }
    },
    {
      "cell_type": "code",
      "source": [
        "nombre = \"Ana María\"\n",
        "edad = 17\n",
        "print(f\"El nombre de la alumna es {nombre} y su edad es {edad} años.\")"
      ],
      "metadata": {
        "id": "jw1ysEF5r66Q",
        "outputId": "09e6fb56-968c-4101-90e8-51aab26085ac",
        "colab": {
          "base_uri": "https://localhost:8080/"
        }
      },
      "execution_count": null,
      "outputs": [
        {
          "output_type": "stream",
          "name": "stdout",
          "text": [
            "El nombre de la alumna es Ana María y su edad es 17 años.\n"
          ]
        }
      ]
    },
    {
      "cell_type": "markdown",
      "source": [
        "Operador de Formateo:\n",
        "\n",
        "Este operador de formateo permite la inserción de variables en puntos específicos en la cadena de texto utilizando el operador %. Este operador funciona como un marcador, indicando dónde se expondrá el valor de la variable en la cadena.\n",
        "\n",
        "El % debe ir acompañado de una palabra clave para cada tipo de variable que se desee agregar.\n",
        "\n",
        "\n",
        "\n",
        "*   Cadena de texto %s\n",
        "*   Entero %d\n",
        "*   Punto flotante %f\n",
        "*   Caracter %c\n",
        "\n",
        "\n"
      ],
      "metadata": {
        "id": "Q5XaVnFjskxf"
      }
    },
    {
      "cell_type": "code",
      "source": [
        "nombre_alumno = 'Penélope Camacho'\n",
        "print('Nombre del alumno: %s' %(nombre_alumno))"
      ],
      "metadata": {
        "id": "HVyUc56SsMZx",
        "outputId": "f40fb26b-55be-4bc2-a832-6d331de20a37",
        "colab": {
          "base_uri": "https://localhost:8080/"
        }
      },
      "execution_count": null,
      "outputs": [
        {
          "output_type": "stream",
          "name": "stdout",
          "text": [
            "Nombre del alumno: Penélope Camacho\n"
          ]
        }
      ]
    },
    {
      "cell_type": "code",
      "source": [
        "nombre_alumno = 'Penélope Camacho'\n",
        "edad_alumno = 11\n",
        "media_alumno = 9.95\n",
        "print('Nombre del alumno es %s, tiene %d años y su media es %f.' %(nombre_alumno, edad_alumno, media_alumno))"
      ],
      "metadata": {
        "id": "vN4XMfVtsdpe",
        "outputId": "a16c28ac-438c-4ae0-b612-4e17470c620f",
        "colab": {
          "base_uri": "https://localhost:8080/"
        }
      },
      "execution_count": null,
      "outputs": [
        {
          "output_type": "stream",
          "name": "stdout",
          "text": [
            "Nombre del alumno es Penélope Camacho, tiene 11 años y su media es 9.950000.\n"
          ]
        }
      ]
    },
    {
      "cell_type": "code",
      "source": [
        "print('Nombre del alumno es %s, tiene %d años y su media es %.2f.' %(nombre_alumno, edad_alumno, media_alumno))"
      ],
      "metadata": {
        "id": "pWT8fUHZtI41",
        "outputId": "f0a2275a-8729-43d8-bab4-71f9b56436ee",
        "colab": {
          "base_uri": "https://localhost:8080/"
        }
      },
      "execution_count": null,
      "outputs": [
        {
          "output_type": "stream",
          "name": "stdout",
          "text": [
            "Nombre del alumno es Penélope Camacho, tiene 11 años y su media es 9.95.\n"
          ]
        }
      ]
    },
    {
      "cell_type": "code",
      "source": [
        "x = True\n",
        "print(\"Valor de x: %s\" % str(x))"
      ],
      "metadata": {
        "id": "rNGQ5ADJtTP9",
        "outputId": "55b1f7c7-2812-4696-f65a-38ccf92a521b",
        "colab": {
          "base_uri": "https://localhost:8080/"
        }
      },
      "execution_count": null,
      "outputs": [
        {
          "output_type": "stream",
          "name": "stdout",
          "text": [
            "Valor de x: True\n"
          ]
        }
      ]
    },
    {
      "cell_type": "markdown",
      "source": [
        "Es posible utilizar el método .format() para formatear cadenas. Es más flexible y permite pasar las variables directamente dentro de la cadena, sin necesidad de operadores %. Los marcadores son simplemente {}."
      ],
      "metadata": {
        "id": "ricmwW33tY5m"
      }
    },
    {
      "cell_type": "code",
      "source": [
        "nombre_alumno = 'Penélope Camacho'\n",
        "print('Nombre del alumno: {}'.format(nombre_alumno))"
      ],
      "metadata": {
        "id": "-Qk4KzCTthds",
        "outputId": "2fbfbfa9-2ba5-4130-f7bf-a3fcf064b044",
        "colab": {
          "base_uri": "https://localhost:8080/"
        }
      },
      "execution_count": null,
      "outputs": [
        {
          "output_type": "stream",
          "name": "stdout",
          "text": [
            "Nombre del alumno: Penélope Camacho\n"
          ]
        }
      ]
    },
    {
      "cell_type": "code",
      "source": [
        "nombre_alumno = 'Fabricio Daniel'\n",
        "edad_alumno = 15\n",
        "media_alumno = 9.95\n",
        "print('Nombre del alumno es {}, tiene {} años y su media es {}.' .format(nombre_alumno, edad_alumno, media_alumno))"
      ],
      "metadata": {
        "id": "gk-CSLpmtj11",
        "outputId": "90cf537b-37e3-46c4-8b5e-e8aa7ca01a1d",
        "colab": {
          "base_uri": "https://localhost:8080/"
        }
      },
      "execution_count": null,
      "outputs": [
        {
          "output_type": "stream",
          "name": "stdout",
          "text": [
            "Nombre del alumno es Fabricio Daniel, tiene 15 años y su media es 9.95.\n"
          ]
        }
      ]
    },
    {
      "cell_type": "markdown",
      "source": [
        "Caracteres Especiales:\n",
        "\n",
        "Además de la formateo de inserción de variables en una cadena, también existen caracteres especiales. Se utilizan para representar acciones especiales o caracteres que no se pueden escribir directamente, como el “Enter” y la tabulación."
      ],
      "metadata": {
        "id": "ayBA1k5SttBh"
      }
    },
    {
      "cell_type": "code",
      "source": [
        "print(\"Estudiar es un esfuerzo constante,\\nEs como cultivar una planta,\\nNecesitamos dedicación y paciencia,\\nPara ver madurar el fruto.\")"
      ],
      "metadata": {
        "id": "OdyWmvjqt0r7",
        "outputId": "a3dc0be1-e312-4485-b141-3fd1dc1b1f10",
        "colab": {
          "base_uri": "https://localhost:8080/"
        }
      },
      "execution_count": null,
      "outputs": [
        {
          "output_type": "stream",
          "name": "stdout",
          "text": [
            "Estudiar es un esfuerzo constante,\n",
            "Es como cultivar una planta,\n",
            "Necesitamos dedicación y paciencia,\n",
            "Para ver madurar el fruto.\n"
          ]
        }
      ]
    },
    {
      "cell_type": "code",
      "source": [
        "print('Cantidad\\tCalidad\\n5 muestras\\tAlta\\n3 muestras\\tBaja')"
      ],
      "metadata": {
        "id": "-q3neleAt5Cr",
        "outputId": "199d4f9d-1d9a-4dfe-af39-bbd86b8b8922",
        "colab": {
          "base_uri": "https://localhost:8080/"
        }
      },
      "execution_count": null,
      "outputs": [
        {
          "output_type": "stream",
          "name": "stdout",
          "text": [
            "Cantidad\tCalidad\n",
            "5 muestras\tAlta\n",
            "3 muestras\tBaja\n"
          ]
        }
      ]
    },
    {
      "cell_type": "code",
      "source": [
        "print(\"Ruta del archivo: C:\\\\archivos\\\\documento.csv\")"
      ],
      "metadata": {
        "id": "PL45tpoht88n",
        "outputId": "f141c687-5f26-41ba-d60b-7896ab3f34be",
        "colab": {
          "base_uri": "https://localhost:8080/"
        }
      },
      "execution_count": null,
      "outputs": [
        {
          "output_type": "stream",
          "name": "stdout",
          "text": [
            "Ruta del archivo: C:\\archivos\\documento.csv\n"
          ]
        }
      ]
    },
    {
      "cell_type": "code",
      "source": [
        "print(\"Una vez oí: \\\"Los frutos del conocimiento son los más dulces y duraderos de todos.\\\"\")"
      ],
      "metadata": {
        "id": "uf2CBrHkuDDr",
        "outputId": "687df166-be88-48fc-8799-835bc47f58ee",
        "colab": {
          "base_uri": "https://localhost:8080/"
        }
      },
      "execution_count": null,
      "outputs": [
        {
          "output_type": "stream",
          "name": "stdout",
          "text": [
            "Una vez oí: \"Los frutos del conocimiento son los más dulces y duraderos de todos.\"\n"
          ]
        }
      ]
    },
    {
      "cell_type": "code",
      "source": [
        "print('Mi profesora una vez dijo: \\'Estudiar es la clave del éxito.\\'')"
      ],
      "metadata": {
        "id": "IP8fTXX2uKaL",
        "outputId": "f8e4f7f0-aa67-4d3e-93de-42960c4a1a2c",
        "colab": {
          "base_uri": "https://localhost:8080/"
        }
      },
      "execution_count": null,
      "outputs": [
        {
          "output_type": "stream",
          "name": "stdout",
          "text": [
            "Mi profesora una vez dijo: 'Estudiar es la clave del éxito.'\n"
          ]
        }
      ]
    },
    {
      "cell_type": "markdown",
      "source": [
        "# Desafios1"
      ],
      "metadata": {
        "id": "MabhlX4TvFd0"
      }
    },
    {
      "cell_type": "markdown",
      "source": [
        "1 - Crea un programa que solicite al usuario que escriba su nombre y luego imprima \"Hola, [nombre].\""
      ],
      "metadata": {
        "id": "iREoCaLb3csd"
      }
    },
    {
      "cell_type": "code",
      "source": [
        "nombre_desafio1 = input('escribe tu nombre: ')\n",
        "print (f'Hola, {nombredesafio1}')"
      ],
      "metadata": {
        "colab": {
          "base_uri": "https://localhost:8080/"
        },
        "id": "0edng-RA3h0s",
        "outputId": "1b514daf-b42e-4c9e-a816-d2ddae12d5fc"
      },
      "execution_count": null,
      "outputs": [
        {
          "output_type": "stream",
          "name": "stdout",
          "text": [
            "escribe tu nombre: Gabi\n",
            "Hola, Gabi\n"
          ]
        }
      ]
    },
    {
      "cell_type": "markdown",
      "source": [
        "2 - Crea un programa que solicite al usuario que escriba su nombre y edad, y luego imprima \"Hola, [nombre], tienes [edad] años.\""
      ],
      "metadata": {
        "id": "80YDgb9T5P29"
      }
    },
    {
      "cell_type": "code",
      "source": [
        "nombre_desafio2 = input('escribe tu nombre: ')\n",
        "edad_desafio2 = input('escribe edad: ')\n",
        "print (f'Hola, {nombre_desafio2}, tienes {edad_desafio2} años')"
      ],
      "metadata": {
        "outputId": "05a3e94d-3ba0-4308-8b82-ec28207721d8",
        "colab": {
          "base_uri": "https://localhost:8080/"
        },
        "id": "iBmVAdRZ5DmO"
      },
      "execution_count": null,
      "outputs": [
        {
          "output_type": "stream",
          "name": "stdout",
          "text": [
            "escribe tu nombre: Gabi\n",
            "escribe edad: 36\n",
            "Hola, Gabi, tienes 36 años\n"
          ]
        }
      ]
    },
    {
      "cell_type": "markdown",
      "source": [
        "3 - Crea un programa que solicite al usuario que escriba su nombre, edad y altura en metros, y luego imprima \"Hola, [nombre], tienes [edad] años y mides [altura] metros.\""
      ],
      "metadata": {
        "id": "6sdU2Jh96_Nu"
      }
    },
    {
      "cell_type": "code",
      "source": [
        "nombre_desafio3 = input('Escribe tu nombre: ')\n",
        "edad_desafio3 = int(input('Escribe edad: '))\n",
        "altura_desafio3 = float(input('Ingresa tu altura: '))\n",
        "print (f'Hola, {nombre_desafio3}, tienes {edad_desafio3} años y mides {altura_desafio3} metros')"
      ],
      "metadata": {
        "id": "ASEqL_2K7GHh",
        "outputId": "86b61277-4748-4821-9c41-8669394f1b39",
        "colab": {
          "base_uri": "https://localhost:8080/"
        }
      },
      "execution_count": null,
      "outputs": [
        {
          "output_type": "stream",
          "name": "stdout",
          "text": [
            "Escribe tu nombre: Gabi\n",
            "Escribe edad: 36\n",
            "Ingresa tu altura: 1.65\n",
            "Hola, Gabi, tienes 36 años y mides 1.65 metros\n"
          ]
        }
      ]
    },
    {
      "cell_type": "markdown",
      "source": [
        "# Calculadora con Operadores"
      ],
      "metadata": {
        "id": "Fmvd0t2T780q"
      }
    },
    {
      "cell_type": "markdown",
      "source": [
        "4 - Crea un programa que solicite dos valores numéricos al usuario y luego imprima la suma de ambos valores."
      ],
      "metadata": {
        "id": "cYviV1Gd8I63"
      }
    },
    {
      "cell_type": "code",
      "source": [
        "valor_desafio4 = int(input('Ingresa un número: '))\n",
        "valor2_desafio4 = int(input('Ingresa otro número: '))\n",
        "print(valor_desafio4 + valor2_desafio4)"
      ],
      "metadata": {
        "id": "2EilKgQm8MFg",
        "outputId": "7fd5a0b3-655d-42c0-cfe7-c8b8b3c3f243",
        "colab": {
          "base_uri": "https://localhost:8080/"
        }
      },
      "execution_count": null,
      "outputs": [
        {
          "output_type": "stream",
          "name": "stdout",
          "text": [
            "Ingresa un número: 5\n",
            "Ingresa otro número: 4\n",
            "9\n"
          ]
        }
      ]
    },
    {
      "cell_type": "markdown",
      "source": [
        "5 - Crea un programa que solicite tres valores numéricos al usuario y luego imprima la suma de los tres valores."
      ],
      "metadata": {
        "id": "W3R8cUiz9EuE"
      }
    },
    {
      "cell_type": "code",
      "source": [
        "valor_desafio5 = int(input('Ingresa un primer valor: '))\n",
        "valor2_desafio5 = int(input('Ingresa un segundo valor: '))\n",
        "valor3_desafio5 = int(input('Ingresa un tercer valor: '))\n",
        "print(valor_desafio5 + valor2_desafio5 + valor3_desafio5)"
      ],
      "metadata": {
        "id": "ldqIRsf-9KbF",
        "outputId": "c69f84c0-1bb7-4abe-f847-74a157975dd1",
        "colab": {
          "base_uri": "https://localhost:8080/"
        }
      },
      "execution_count": null,
      "outputs": [
        {
          "output_type": "stream",
          "name": "stdout",
          "text": [
            "Ingresa un primer valor: 5\n",
            "Ingresa un segundo valor: 6\n",
            "Ingresa un tercer valor: 2\n",
            "13\n"
          ]
        }
      ]
    },
    {
      "cell_type": "markdown",
      "source": [
        "6 - Crea un programa que solicite dos valores numéricos al usuario y luego imprima la resta del primero menos el segundo valor."
      ],
      "metadata": {
        "id": "o5ixFbkc86fi"
      }
    },
    {
      "cell_type": "code",
      "source": [
        "valor_desafio6 = int(input('Ingresa un número: '))\n",
        "valor2_desafio6 = int(input('Ingresa otro número: '))\n",
        "print(valor_desafio6 - valor2_desafio6)"
      ],
      "metadata": {
        "id": "zEk8AAie8-C5",
        "outputId": "a906d15e-47be-405a-8115-27924db79615",
        "colab": {
          "base_uri": "https://localhost:8080/"
        }
      },
      "execution_count": null,
      "outputs": [
        {
          "output_type": "stream",
          "name": "stdout",
          "text": [
            "Ingresa un número: 9\n",
            "Ingresa otro número: 4\n",
            "5\n"
          ]
        }
      ]
    },
    {
      "cell_type": "markdown",
      "source": [
        "7 - Crea un programa que solicite dos valores numéricos al usuario y luego imprima la multiplicación de los dos valores."
      ],
      "metadata": {
        "id": "ITs_gbZ2-EM7"
      }
    },
    {
      "cell_type": "code",
      "source": [
        "valor_desafio7 = int(input('Ingresa un número que quisieras multiplicar: '))\n",
        "valor2_desafio7 = int(input('Ingresa otro número que quisieras multiplicar: '))\n",
        "print(valor_desafio7 * valor2_desafio7)"
      ],
      "metadata": {
        "id": "PH7WWTu7-H0j",
        "outputId": "6c6b8b44-5107-45dc-ce3e-0ee05eed679e",
        "colab": {
          "base_uri": "https://localhost:8080/"
        }
      },
      "execution_count": null,
      "outputs": [
        {
          "output_type": "stream",
          "name": "stdout",
          "text": [
            "Ingresa un número que quisieras multiplicar: 5\n",
            "Ingresa otro número que quisieras multiplicar: 2\n",
            "10\n"
          ]
        }
      ]
    },
    {
      "cell_type": "markdown",
      "source": [
        "8 - Crea un programa que solicite dos valores numéricos, un numerador y un denominador, y realice la división entre los dos valores. Asegúrate de que el valor del denominador no sea igual a 0."
      ],
      "metadata": {
        "id": "wMlgTcyo-cCz"
      }
    },
    {
      "cell_type": "code",
      "source": [
        "numerador_desafio8 = int(input('Ingresa el numerador: '))\n",
        "denominador_desafio8 = int(input('Ingresa el denominador (el valor no puede ser nulo): '))\n",
        "print(numerador_desafio8 / denominador_desafio8)"
      ],
      "metadata": {
        "id": "IWJG8TBc-fgC",
        "outputId": "c287a93e-95d0-47d0-c9fc-4f3c0f85c12d",
        "colab": {
          "base_uri": "https://localhost:8080/"
        }
      },
      "execution_count": null,
      "outputs": [
        {
          "output_type": "stream",
          "name": "stdout",
          "text": [
            "Ingresa el numerador: 10\n",
            "Ingresa el denominador (el valor no puede ser nulo): 2\n",
            "5.0\n"
          ]
        }
      ]
    },
    {
      "cell_type": "markdown",
      "source": [
        "9 - Crea un programa que solicite dos valores numéricos, un operador y una potencia, y realice la exponenciación entre estos dos valores."
      ],
      "metadata": {
        "id": "y7GxafN6_Y8-"
      }
    },
    {
      "cell_type": "code",
      "source": [
        "operador_desafio9 = int(input('Ingresa el operador: '))\n",
        "potencia_desafio9 = int(input('Ingresa la potencia: '))\n",
        "print(operador_desafio9 ** potencia_desafio9)"
      ],
      "metadata": {
        "id": "RexzyYQC_fBs",
        "outputId": "ba9cc17b-7822-4aa3-d1fc-6986814b4987",
        "colab": {
          "base_uri": "https://localhost:8080/"
        }
      },
      "execution_count": null,
      "outputs": [
        {
          "output_type": "stream",
          "name": "stdout",
          "text": [
            "Ingresa el operador: 5\n",
            "Ingresa la potencia: 5\n",
            "3125\n"
          ]
        }
      ]
    },
    {
      "cell_type": "markdown",
      "source": [
        "10 - Crea un programa que solicite dos valores numéricos, un numerador y un denominador, y realice la división entera entre los dos valores. Asegúrate de que el valor del denominador no sea igual a 0."
      ],
      "metadata": {
        "id": "D_cej8Oq_7N_"
      }
    },
    {
      "cell_type": "code",
      "source": [
        "numerador_desafio10 = int(input('Ingresa el numerador: '))\n",
        "denominador_desafio10 = int(input('Ingresa el denominador (el valor no puede ser nulo): '))\n",
        "print(numerador_desafio10 // denominador_desafio10)"
      ],
      "metadata": {
        "id": "GSf5Q-AU__3-",
        "outputId": "bd146cf7-4012-428a-bd02-7be71a865d53",
        "colab": {
          "base_uri": "https://localhost:8080/"
        }
      },
      "execution_count": null,
      "outputs": [
        {
          "output_type": "stream",
          "name": "stdout",
          "text": [
            "Ingresa el numerador: 25\n",
            "Ingresa el denominador (el valor no puede ser nulo): 2\n",
            "12\n"
          ]
        }
      ]
    },
    {
      "cell_type": "markdown",
      "source": [
        "11 - Crea un programa que solicite dos valores numéricos, un numerador y un denominador, y devuelva el resto de la división entre los dos valores. Asegúrate de que el valor del denominador no sea igual a 0."
      ],
      "metadata": {
        "id": "ke7m6PhpA_dQ"
      }
    },
    {
      "cell_type": "code",
      "source": [
        "numerador_desafio11 = int(input('Ingresa el numerador: '))\n",
        "denominador_desafio11 = int(input('Ingresa el denominador (el valor no puede ser nulo): '))\n",
        "print(numerador_desafio11 % denominador_desafio11)"
      ],
      "metadata": {
        "id": "Em8FgJXSBJz2",
        "outputId": "dad1277e-8e5d-40aa-9db3-ebf189f2a7f8",
        "colab": {
          "base_uri": "https://localhost:8080/"
        }
      },
      "execution_count": null,
      "outputs": [
        {
          "output_type": "stream",
          "name": "stdout",
          "text": [
            "Ingresa el numerador: 20\n",
            "Ingresa el denominador (el valor no puede ser nulo): 5\n",
            "0\n"
          ]
        }
      ]
    },
    {
      "cell_type": "markdown",
      "source": [
        "12 - Crea un código que solicite las 3 notas de un estudiante e imprima el promedio de las notas."
      ],
      "metadata": {
        "id": "PWdO0tZsBdol"
      }
    },
    {
      "cell_type": "code",
      "source": [
        "nota_desafio12 = float(input('Ingrese su primera calificación: '))\n",
        "nota2_desafio12 = float(input('Ingrese su segunda calificación: '))\n",
        "nota3_desafio12 = float(input('Ingrese su tercera calificación: '))\n",
        "\n",
        "print(f'Media {(nota_desafio12 + nota2_desafio12 + nota3_desafio12)/3}')"
      ],
      "metadata": {
        "id": "UXbuWB6rBg29",
        "outputId": "dbe66222-bbf5-46a2-8c39-95bd324ec99a",
        "colab": {
          "base_uri": "https://localhost:8080/"
        }
      },
      "execution_count": null,
      "outputs": [
        {
          "output_type": "stream",
          "name": "stdout",
          "text": [
            "Ingrese su primera calificación: 5\n",
            "Ingrese su segunda calificación: 3\n",
            "Ingrese su tercera calificación: 7\n",
            "Media 5.0\n"
          ]
        }
      ]
    },
    {
      "cell_type": "markdown",
      "source": [
        "13 - Crea un código que calcule e imprima el promedio ponderado de los números 5, 12, 20 y 15 con pesos respectivamente iguales a 1, 2, 3 y 4.\n",
        "\n",
        "**Aplicaciones prácticas:**\n",
        "**Educación:** Calcular notas finales donde diferentes exámenes/tareas tienen distintos pesos (ej: parcial 30%, final 50%, tareas 20%).\n",
        "\n",
        "**Finanzas:** Calcular el costo promedio de acciones compradas a diferentes precios y cantidades.\n",
        "\n",
        "**Estadística:** Análisis de datos donde algunas observaciones son más relevantes que otras.\n",
        "\n",
        "**Encuestas:** Dar más peso a respuestas de ciertos grupos demográficos.\n",
        "\n",
        "**Control de calidad:** Evaluar productos donde ciertos defectos son más graves que otros.\n",
        "\n",
        "_Ejemplo práctico:_ calcular la nota final de un curso donde:\n",
        "\n",
        "Examen parcial (peso 3): 7.5\n",
        "\n",
        "Proyecto (peso 2): 8.0\n",
        "\n",
        "Participación (peso 1): 9.5\n",
        "\n",
        "python\n",
        "```\n",
        "# nota_final = (7.5*3 + 8.0*2 + 9.5*1) / (3+2+1)\n",
        "print(f'Nota final: {nota_final:.2f}')\n",
        "```\n",
        "La media ponderada es esencial cuando no todos los valores contribuyen igual al resultado final."
      ],
      "metadata": {
        "id": "6Mux-g9yDwLY"
      }
    },
    {
      "cell_type": "code",
      "source": [
        "media_ponderada = (5*1 + 12*2 + 20*3 + 15*4) / (1+2+3+4)\n",
        "print(f'Media {media_ponderada}')"
      ],
      "metadata": {
        "id": "gYo-ikO0D0vs",
        "outputId": "7306444d-ef61-41fe-dec6-40cdeb989b43",
        "colab": {
          "base_uri": "https://localhost:8080/"
        }
      },
      "execution_count": null,
      "outputs": [
        {
          "output_type": "stream",
          "name": "stdout",
          "text": [
            "Media 14.9\n"
          ]
        }
      ]
    },
    {
      "cell_type": "markdown",
      "source": [
        "# Editando textos"
      ],
      "metadata": {
        "id": "lU-KOFO_FTGw"
      }
    },
    {
      "cell_type": "markdown",
      "source": [
        "14 - Crea una variable llamada \"frase\" y asígnale una cadena de texto de tu elección. Luego, imprime la frase en pantalla."
      ],
      "metadata": {
        "id": "kPWq_13gFXfs"
      }
    },
    {
      "cell_type": "code",
      "source": [
        "frase_desafio14 = 'Que lindo es un día de otoño cuando sale el sol'\n",
        "print(frase_desafio14)"
      ],
      "metadata": {
        "id": "oa6JnwQWFXGj",
        "outputId": "8dcd61be-d601-4365-a13c-e07acdd464de",
        "colab": {
          "base_uri": "https://localhost:8080/"
        }
      },
      "execution_count": null,
      "outputs": [
        {
          "output_type": "stream",
          "name": "stdout",
          "text": [
            "Que lindo es un día de otoño cuando sale el sol\n"
          ]
        }
      ]
    },
    {
      "cell_type": "markdown",
      "source": [
        "15 - Crea un código que solicite una frase y luego imprima la frase en pantalla."
      ],
      "metadata": {
        "id": "DCyXlXs2G8T5"
      }
    },
    {
      "cell_type": "code",
      "source": [
        "frase_desafio15 = input('me podrías indicar una frase: ')\n",
        "print(frase_desafio15)"
      ],
      "metadata": {
        "id": "oPkC1ThnHBgS",
        "outputId": "17d7495c-8959-4b6b-b865-0afce4ff4126",
        "colab": {
          "base_uri": "https://localhost:8080/"
        }
      },
      "execution_count": null,
      "outputs": [
        {
          "output_type": "stream",
          "name": "stdout",
          "text": [
            "me podrías indicar una frase: un buen día\n",
            "un buen día\n"
          ]
        }
      ]
    },
    {
      "cell_type": "markdown",
      "source": [
        "16 - Crea un código que solicite una frase al usuario y luego imprima la misma frase ingresada pero en mayúsculas."
      ],
      "metadata": {
        "id": "VFYBcGOSHfcS"
      }
    },
    {
      "cell_type": "code",
      "source": [
        "frase_desafio16 = input('me podrías dar tu frase del día: ')\n",
        "print(frase_desafio16.upper())"
      ],
      "metadata": {
        "id": "lHTj7lL3Himg",
        "outputId": "3b437ca7-14d0-46b9-a20b-b7972eeddd20",
        "colab": {
          "base_uri": "https://localhost:8080/"
        }
      },
      "execution_count": null,
      "outputs": [
        {
          "output_type": "stream",
          "name": "stdout",
          "text": [
            "me podrías dar tu frase del día: dia de otoño\n",
            "DIA DE OTOÑO\n"
          ]
        }
      ]
    },
    {
      "cell_type": "markdown",
      "source": [
        "17 - Crea un código que solicite una frase al usuario y luego imprima la misma frase ingresada pero en minúsculas."
      ],
      "metadata": {
        "id": "eMUi8PGsIJji"
      }
    },
    {
      "cell_type": "code",
      "source": [
        "frase_desafio17 = input('me podrías dar una frase: ')\n",
        "print(frase_desafio17.lower())"
      ],
      "metadata": {
        "id": "TcRDDww0IXdY",
        "outputId": "27265872-6d57-4740-b984-4c747506fe7a",
        "colab": {
          "base_uri": "https://localhost:8080/"
        }
      },
      "execution_count": null,
      "outputs": [
        {
          "output_type": "stream",
          "name": "stdout",
          "text": [
            "me podrías dar una frase: UN DIA DE OTOÑO\n",
            "un dia de otoño\n"
          ]
        }
      ]
    },
    {
      "cell_type": "markdown",
      "source": [
        "18 - Crea una variable llamada \"frase\" y asígnale una cadena de texto de tu elección. Luego, imprime la frase sin espacios en blanco al principio y al final."
      ],
      "metadata": {
        "id": "yeGiV2jhJouL"
      }
    },
    {
      "cell_type": "code",
      "source": [
        "frase_desafio18 = '     esto es un texto  '\n",
        "print(frase_desafio18.strip())"
      ],
      "metadata": {
        "id": "0aaNngHOJuOz",
        "outputId": "a4213e53-d6e1-497a-e7a5-dd452722e964",
        "colab": {
          "base_uri": "https://localhost:8080/"
        }
      },
      "execution_count": null,
      "outputs": [
        {
          "output_type": "stream",
          "name": "stdout",
          "text": [
            "esto es un texto\n"
          ]
        }
      ]
    },
    {
      "cell_type": "markdown",
      "source": [
        "19 - Crea un código que solicite una frase al usuario y luego imprima la misma frase sin espacios en blanco al principio y al final."
      ],
      "metadata": {
        "id": "qfLJiCRNKsfS"
      }
    },
    {
      "cell_type": "code",
      "source": [
        "frase_desafio19 = input('me podrías dar un texto: ')\n",
        "print(frase_desafio19.strip())"
      ],
      "metadata": {
        "id": "e-MMQh-MKvT2",
        "outputId": "0af6fd78-634d-4edc-9346-7d50dd5a6e82",
        "colab": {
          "base_uri": "https://localhost:8080/"
        }
      },
      "execution_count": null,
      "outputs": [
        {
          "output_type": "stream",
          "name": "stdout",
          "text": [
            "me podrías dar un texto:      un texto que tiene espacios al principio y al final           \n",
            "un texto que tiene espacios al principio y al final\n"
          ]
        }
      ]
    },
    {
      "cell_type": "markdown",
      "source": [
        "20 - Crea un código que solicite una frase al usuario y luego imprima la misma frase sin espacios en blanco al principio y al final, además de convertirla a minúsculas."
      ],
      "metadata": {
        "id": "0dbNn547LZD5"
      }
    },
    {
      "cell_type": "code",
      "source": [
        "frase_desafio20 = input('me podrías dar un texto: ')\n",
        "print(frase_desafio20.strip().lower())"
      ],
      "metadata": {
        "id": "h3jwBDzcLcI0",
        "outputId": "7fb195bc-5ca9-4850-bca5-90c3ca90befb",
        "colab": {
          "base_uri": "https://localhost:8080/"
        }
      },
      "execution_count": null,
      "outputs": [
        {
          "output_type": "stream",
          "name": "stdout",
          "text": [
            "me podrías dar un texto:     un texto con espacios    \n",
            "un texto con espacios\n"
          ]
        }
      ]
    },
    {
      "cell_type": "markdown",
      "source": [
        "21 - Crea un código que solicite una frase al usuario y luego imprima la misma frase con todas las vocales \"e\" reemplazadas por la letra \"f\"."
      ],
      "metadata": {
        "id": "NL7gl7x6MP3H"
      }
    },
    {
      "cell_type": "code",
      "source": [
        "frase_desafio21 = input('ingresa un texto: ')\n",
        "print(frase_desafio21.replace('e', 'f'))"
      ],
      "metadata": {
        "id": "0Mdh06n4MUbZ",
        "outputId": "343cc6fb-3e00-4c49-8f14-4e177aa0fcf4",
        "colab": {
          "base_uri": "https://localhost:8080/"
        }
      },
      "execution_count": null,
      "outputs": [
        {
          "output_type": "stream",
          "name": "stdout",
          "text": [
            "ingresa un texto: texto efectivo para elefantes\n",
            "tfxto fffctivo para flffantfs\n"
          ]
        }
      ]
    },
    {
      "cell_type": "markdown",
      "source": [
        "22 - Crea un código que solicite una frase al usuario y luego imprima la misma frase con todas las vocales \"a\" reemplazadas por el carácter \"@\""
      ],
      "metadata": {
        "id": "THVoSuC2MVOq"
      }
    },
    {
      "cell_type": "code",
      "source": [
        "frase_desafio22 = input('ingresa un texto: ')\n",
        "print(frase_desafio22.replace('a', '@'))"
      ],
      "metadata": {
        "id": "1-RuPTK5NW67",
        "outputId": "0decea32-18fb-4100-fa38-a8878ee09d4c",
        "colab": {
          "base_uri": "https://localhost:8080/"
        }
      },
      "execution_count": null,
      "outputs": [
        {
          "output_type": "stream",
          "name": "stdout",
          "text": [
            "ingresa un texto: para almas alegres y atrevidas\n",
            "p@r@ @lm@s @legres y @trevid@s\n"
          ]
        }
      ]
    },
    {
      "cell_type": "markdown",
      "source": [
        "23 - Crea un código que solicite una frase al usuario y luego imprima la misma frase con todas las consonantes \"s\" reemplazadas por el carácter \"$\"."
      ],
      "metadata": {
        "id": "mkhwyHT0Md_Y"
      }
    },
    {
      "cell_type": "code",
      "source": [
        "frase_desafio23 = input('ingresa un texto: ')\n",
        "print(frase_desafio23.replace('s', '$'))"
      ],
      "metadata": {
        "id": "Qjl_nU1hNrP6",
        "outputId": "65378d9d-de35-4a81-8a92-f40a46208692",
        "colab": {
          "base_uri": "https://localhost:8080/"
        }
      },
      "execution_count": null,
      "outputs": [
        {
          "output_type": "stream",
          "name": "stdout",
          "text": [
            "ingresa un texto: sabiendo sobre salsas y condimentos\n",
            "$abiendo $obre $al$a$ y condimento$\n"
          ]
        }
      ]
    },
    {
      "cell_type": "markdown",
      "source": [
        "# Estructuras condicionales"
      ],
      "metadata": {
        "id": "NwRaiHHHhhyl"
      }
    },
    {
      "cell_type": "code",
      "source": [],
      "metadata": {
        "id": "pa4gLncu-mvU"
      },
      "execution_count": null,
      "outputs": []
    },
    {
      "cell_type": "code",
      "source": [],
      "metadata": {
        "id": "_cWRmDiE-m4p"
      },
      "execution_count": null,
      "outputs": []
    },
    {
      "cell_type": "markdown",
      "source": [
        "## `IF` y `ELSE`\n",
        "\n",
        "Los comandos `if` y `else` son dos estructuras condicionales. El comando `if` ejecutará el bloque de comandos en caso de que la condición citada sea  **verdadera**. El comando `else` ejecutará el bloque de comandos en el caso de que la condicional de `if` sea **falsa**."
      ],
      "metadata": {
        "id": "qXZqg9aYEhAh"
      }
    },
    {
      "cell_type": "markdown",
      "source": [
        "El comando `if` es una palabra clave en Python que significa \"si\". Este se emplea para conformar la estructura condicional, que te permite verificar si una determinada condición es verdadera o falsa e, inmediatamente después, ejecute un bloque de código específico dependiendo del resultado de la verificación. La sintaxis para usar el comando `if` es:\n",
        "\n",
        "\n",
        "\n",
        "```\n",
        "if condicion:\n",
        "    # Realiza algo\n",
        "```\n",
        "\n"
      ],
      "metadata": {
        "id": "EIhlqHXd2Gil"
      }
    },
    {
      "cell_type": "code",
      "source": [],
      "metadata": {
        "id": "S2S6XAFz-czM"
      },
      "execution_count": null,
      "outputs": []
    },
    {
      "cell_type": "code",
      "source": [],
      "metadata": {
        "id": "YHkwMMyY-c1r"
      },
      "execution_count": null,
      "outputs": []
    },
    {
      "cell_type": "markdown",
      "source": [
        "Ya el comando `else` en Python se usa en junción con la palabra clave `if` para formar una estructura condicional. la sintaxis para usar el `else` es:\n",
        "\n",
        "```\n",
        "if condicion:\n",
        "  # codigo en caso de que sea verdad\n",
        "else:\n",
        "  # codigo en caso de que sea falso\n",
        "```\n",
        "\n",
        "el comando `else` se ejecuta cuando la condición verificada por el `if` es evaluada como `False`."
      ],
      "metadata": {
        "id": "27RW2v_sIKct"
      }
    },
    {
      "cell_type": "code",
      "source": [],
      "metadata": {
        "id": "ZTfNJd_f-aOq"
      },
      "execution_count": null,
      "outputs": []
    },
    {
      "cell_type": "code",
      "source": [],
      "metadata": {
        "id": "LPOb5MkV-btq"
      },
      "execution_count": null,
      "outputs": []
    },
    {
      "cell_type": "markdown",
      "source": [
        "---\n",
        "**Situación:**\n",
        "\n",
        "Recibiremos el promedio de la nota de los estudiantes y necesitamos de un algoritmo que ejecute el análisis y determine si el estudiante fue **Aprobado** o **Reprobado**, mostrando un mensaje del resultado. Para ser aprobado, el promedio necesita ser igual o superior a 7.0."
      ],
      "metadata": {
        "id": "BqORg85XX-Nl"
      }
    },
    {
      "cell_type": "code",
      "source": [],
      "metadata": {
        "id": "UukCN4AQ-YYW"
      },
      "execution_count": null,
      "outputs": []
    },
    {
      "cell_type": "code",
      "source": [],
      "metadata": {
        "id": "X0o8FW1H-YkA"
      },
      "execution_count": null,
      "outputs": []
    },
    {
      "cell_type": "markdown",
      "source": [
        "Ahora, nuestra institución educativa estableció que las personas que tengan el promedio entre 5.0 y 7.0 pueden participar del curso de **Recuperación** durante las vacaciones para lograr aprobar.\n",
        "\n",
        "Entonces podemos apoyarnos en un conjunto de `if`s para poder estructurar esta nueva condición."
      ],
      "metadata": {
        "id": "bD9O17HB6LUo"
      }
    },
    {
      "cell_type": "code",
      "source": [],
      "metadata": {
        "id": "G9cJ5O9--W52"
      },
      "execution_count": null,
      "outputs": []
    },
    {
      "cell_type": "code",
      "source": [],
      "metadata": {
        "id": "iU-pjoJt-W89"
      },
      "execution_count": null,
      "outputs": []
    },
    {
      "cell_type": "markdown",
      "source": [
        "Observa que en casos con 3 situaciones como este necesitamos definir bien nuestras condiciones. Pues, si realizamos una condición con `else` al final, este irá a considerar solamente la condición `if` inmediatamente anterior para generar la salida en caso de que el resultado de su operación lógica sea **falso** dando como resultado, dos o más ejecuciones.\n",
        "\n",
        "Por ejemplo:"
      ],
      "metadata": {
        "id": "D5e2mByjvycO"
      }
    },
    {
      "cell_type": "code",
      "source": [],
      "metadata": {
        "id": "C21JmOuK-VU8"
      },
      "execution_count": null,
      "outputs": []
    },
    {
      "cell_type": "code",
      "source": [],
      "metadata": {
        "id": "bHiVgnPs-Vlv"
      },
      "execution_count": null,
      "outputs": []
    },
    {
      "cell_type": "markdown",
      "source": [
        "## `ELIF`\n",
        "\n",
        "El comando `elif` es una palabra clave en Python que significa \"si no, si\" y lo podemos considerar una *contracción* entre `else` e `if`. Se utiliza en conjunto con la palabra clave `if` para formar una estructura condicional en cadena."
      ],
      "metadata": {
        "id": "04T5g-7h4zWx"
      }
    },
    {
      "cell_type": "markdown",
      "source": [
        "la sintaxis para utilizar el comando `elif` es:\n",
        "\n",
        "```\n",
        "if condicion1:\n",
        "    # Realiza algo\n",
        "elif condicion2:\n",
        "    # Realiza otra cosa\n",
        "elif condicion3:\n",
        "    # Realiza otra cosa\n",
        "else:\n",
        "    # Realiza algo diferente\n",
        "```\n",
        "\n",
        "El comando `elif` permite que puedas verificar varias condiciones en cadena, economizando espacio en tu código. Si la primera condición se evalúa como `False`, el interpretador de Python evaluará la próxima condición con el `elif`. Ello continuará hasta que una condición sea evaluada como `True` o hasta que el `else` sea alcazado. Si ninguna de las condiciones es evaluada como `True`, la ejecución del código del comando `else` será iniciada."
      ],
      "metadata": {
        "id": "rNBHr5mm1Lm6"
      }
    },
    {
      "cell_type": "markdown",
      "source": [
        "Vamos a emplear el mismo caso anterior:"
      ],
      "metadata": {
        "id": "MVoykFbB4bd4"
      }
    },
    {
      "cell_type": "code",
      "source": [],
      "metadata": {
        "id": "QFamB78s-TW_"
      },
      "execution_count": null,
      "outputs": []
    },
    {
      "cell_type": "code",
      "source": [],
      "metadata": {
        "id": "nuScbnHF-TfK"
      },
      "execution_count": null,
      "outputs": []
    },
    {
      "cell_type": "markdown",
      "source": [
        "## Operadores\n",
        "\n",
        "Durante la construcción de comandos a veces necesitamos de una elaboración mayor de la expresión condicional, necesitando que algunos operadores lógicos se encuentren integrados."
      ],
      "metadata": {
        "id": "Tf1wSOem6iwZ"
      }
    },
    {
      "cell_type": "markdown",
      "source": [
        "### `AND`, `OR`, `NOT`\n",
        "\n",
        "Los operadores lógicos `and`, `or` y `not` son usados para combinar expresiones lógicas en Python. Ellos son usados frecuentemente en conjunto con el comando `if` para crear estructuras condicionales más complejas.\n"
      ],
      "metadata": {
        "id": "GFIZnRWXGPWO"
      }
    },
    {
      "cell_type": "markdown",
      "source": [
        "- `AND` es usado para verificar si dos condiciones son verdaderas. La expresión lógica¹ `x and y` se evalúa como `True` tan solo si **ambas condiciones `x` y `y` son verdaderas**, y como `False` en caso contrario.\n",
        "\n",
        "- `OR` es usado para verificar si al menos una de las condiciones es verdadera. La expresión lógica `x or y` se evalúa como `True` **si al menos una de las condiciones `x` o `y` es verdadera**, y como `False` si ambas condiciones son falsas.\n",
        "\n",
        "- `NOT` es usado para **negar una condición**. La expresión lógica `not x` es evaluada como `True` si la condición x es falsa, y como `False` si la condición x es verdadera.\n",
        "\n",
        "¹ Una expresión lógica es una declaración que puede ser evaluada como verdadera o falsa. Ella se compone por operandos lógicos² y por operadores lógicos³, que son usados ​​para combinar varias expresiones lógicas en una única expresión.\n",
        "\n",
        "² Los operandos lógicos son los elementos que son comparados o evaluados en una expresión lógica. Ellos son generalmente valores verdaderos o falsos, pero también pueden ser expresiones lógicas más complejas. En Python, los operandos lógicos son los valores `True` y `False`.\n",
        "\n",
        "³ Los operadores lógicos son ls símbolos o palabras clave que son usados ​​para combinar varias expresiones lógicas en una única expresión. En Python, los operadores lógicos son `and`, `or` y `not`, bien como las palabras clave `if`, `elif` e `else`."
      ],
      "metadata": {
        "id": "Z_dgAoHXJbzB"
      }
    },
    {
      "cell_type": "markdown",
      "source": [
        "> Operadores lógicos más comunes\n",
        "\n",
        "|a|b|AND|OR|NOT|\n",
        "|-|-|-|-|-|\n",
        "|0|0|0|0|1\n",
        "|0|1|0|1|-\n",
        "|1|0|0|1|-\n",
        "|1|1|1|1|0\n"
      ],
      "metadata": {
        "id": "2E5aUogf-49u"
      }
    },
    {
      "cell_type": "code",
      "source": [],
      "metadata": {
        "id": "DFKmpvmS-Pa6"
      },
      "execution_count": null,
      "outputs": []
    },
    {
      "cell_type": "code",
      "source": [],
      "metadata": {
        "id": "W5BIrpOD-PeI"
      },
      "execution_count": null,
      "outputs": []
    },
    {
      "cell_type": "code",
      "source": [],
      "metadata": {
        "id": "fpDhYxq4-PiM"
      },
      "execution_count": null,
      "outputs": []
    },
    {
      "cell_type": "markdown",
      "source": [
        "### `IN`\n",
        "\n",
        "Es usado para verificar si un elemento está presente en una lista, tupla u otra colección de conjunto. La expresión `x in y` se evalúa como `True` si el elemento `x` esta presente na variávelen la variable de conjunto `y`, y como `False` en caso contrario."
      ],
      "metadata": {
        "id": "w7EXG1dhWtja"
      }
    },
    {
      "cell_type": "markdown",
      "source": [
        "Podemos verificarlo con variables de texto.\n",
        "\n",
        "---\n",
        "\n",
        "**Situación:**\n",
        "\n",
        "En la escuela nos entregaron una lista con nombres de estudiantes que fueron aprobados según el promedio del semestre, pero es necesario verificar si algunos nombres están en esa lista para confirmar que los datos estén correctos.\n",
        "\n",
        "La lista distribuida puede ser observada a continuación:\n",
        "\n",
        "```\n",
        "lista = 'Juan Pérez, María González, Pedro Rodríguez, Ana López, Carlos Martínez,\n",
        "    Laura Sánchez, José García, Elena Fernández, Luis Morales, Carmen Torres,\n",
        "    David Ruiz, Isabel Ramírez, Javier Díaz, Sara Herrera, Miguel Castro,\n",
        "    Patricia Ortega, Francisco Vargas, Marta Jiménez, Manuel Medina, Rosa Molina,\n",
        "    Alejandro Silva, Silvia Ruiz, Andrés Torres, Natalia Soto, Diego Guerrero,\n",
        "    Paula Ríos, Ricardo Navarro, Alicia Cordero, Carlos Vidal, Lorena Gómez'\n",
        "```\n",
        "\n",
        "Los nombres que necesitas verificar son los siguientes:\n",
        "\n",
        "```\n",
        "nombre_1 = 'Miguel Castro'\n",
        "nombre_2 = 'Marcelo Noguera'\n",
        "```"
      ],
      "metadata": {
        "id": "enJNp6JenQbq"
      }
    },
    {
      "cell_type": "code",
      "source": [],
      "metadata": {
        "id": "gPPN9BCT-Mki"
      },
      "execution_count": null,
      "outputs": []
    },
    {
      "cell_type": "code",
      "source": [],
      "metadata": {
        "id": "GINbG3Fa-Mnb"
      },
      "execution_count": null,
      "outputs": []
    },
    {
      "cell_type": "code",
      "source": [],
      "metadata": {
        "id": "hk-RhNRT-Mp7"
      },
      "execution_count": null,
      "outputs": []
    },
    {
      "cell_type": "markdown",
      "source": [
        "# Estructuras de repetición"
      ],
      "metadata": {
        "id": "aL1vJPewvwvz"
      }
    },
    {
      "cell_type": "markdown",
      "source": [
        "Cuando tenemos que ejecutar un mismo bloque de comandos durante varias ocasiones no es nada práctico hacerlo a mano.\n",
        "\n",
        "**Situación**: Nos fue solicitado obtener e imprimir el promedio de 2 notas de **3 estudantes**:"
      ],
      "metadata": {
        "id": "VcPfCa8d-84t"
      }
    },
    {
      "cell_type": "code",
      "source": [
        "nota_1 = float (input ('Digita la primera nota: '))\n",
        "nota_2 = float (input ('Digita la segunda nota: '))\n",
        "print (f'El promedio del estudiante 1 es: {(nota_1 + nota_2)/2}')\n",
        "\n",
        "nota_1 = float (input ('Digita la primera nota: '))\n",
        "nota_2 = float (input ('Digita la segunda nota: '))\n",
        "print (f'El promedio del estudiante 2 es: {(nota_1 + nota_2)/2}')\n",
        "\n",
        "nota_1 = float (input ('Digita la primera nota: '))\n",
        "nota_2 = float (input ('Digita la segunda nota: '))\n",
        "print (f'El promedio del estudiante 3 es: {(nota_1 + nota_2)/2}')"
      ],
      "metadata": {
        "id": "xcx21IGT9qA0",
        "outputId": "e2107a3c-cdf9-4262-cca6-50abeddebc89",
        "colab": {
          "base_uri": "https://localhost:8080/"
        }
      },
      "execution_count": null,
      "outputs": [
        {
          "output_type": "stream",
          "name": "stdout",
          "text": [
            "Digita la primera nota: 4\n",
            "Digita la segunda nota: 6\n",
            "El promedio del estudiante 1 es: 5.0\n",
            "Digita la primera nota: 5.6\n",
            "Digita la segunda nota: 8.5\n",
            "El promedio del estudiante 2 es: 7.05\n",
            "Digita la primera nota: 8.3\n",
            "Digita la segunda nota: 9\n",
            "El promedio del estudiante 3 es: 8.65\n"
          ]
        }
      ]
    },
    {
      "cell_type": "code",
      "source": [],
      "metadata": {
        "id": "Wtbiy9Ay9rGJ"
      },
      "execution_count": null,
      "outputs": []
    },
    {
      "cell_type": "code",
      "source": [],
      "metadata": {
        "id": "Yfyz4anY9rIr"
      },
      "execution_count": null,
      "outputs": []
    },
    {
      "cell_type": "markdown",
      "source": [
        "Ahora imaginemos una situación en que no son tan solo 3 estudiantes, sino 100 estudiantes. No sería nada interesante repetir el mismo código 100 veces, sino **ejecutar el mismo código 100 veces**.\n",
        "\n",
        "¡Esta estructura la logramos construir con lazos de repetición!"
      ],
      "metadata": {
        "id": "9puIuvUbFSFX"
      }
    },
    {
      "cell_type": "markdown",
      "source": [
        "## `WHILE`"
      ],
      "metadata": {
        "id": "uLO9-aE4-wx8"
      }
    },
    {
      "cell_type": "markdown",
      "source": [
        "El lazo `while` es una estructura de control de repetición en Python que permite ejecutar un bloque de código repetidamente mientras que una determinada condición sea verdadera. Su estructura es:\n",
        "\n",
        "\n",
        "\n",
        "```\n",
        "while condicion:\n",
        "    # bloque de codigo\n",
        "```\n",
        "\n",
        "Vamos a construir un ejemplo con un contador de 1 hasta 10.\n"
      ],
      "metadata": {
        "id": "rXZxDMiqHxm9"
      }
    },
    {
      "cell_type": "code",
      "source": [
        "contador = 1\n",
        "while contador <= 10:\n",
        "  print (contador)\n",
        "  #contador = contador + 1\n",
        "  contador += 1"
      ],
      "metadata": {
        "id": "Hd0ZSWxD9wCD",
        "outputId": "4611de77-db43-43ae-bf5a-42762ce29bd7",
        "colab": {
          "base_uri": "https://localhost:8080/"
        }
      },
      "execution_count": null,
      "outputs": [
        {
          "output_type": "stream",
          "name": "stdout",
          "text": [
            "1\n",
            "2\n",
            "3\n",
            "4\n",
            "5\n",
            "6\n",
            "7\n",
            "8\n",
            "9\n",
            "10\n"
          ]
        }
      ]
    },
    {
      "cell_type": "code",
      "source": [],
      "metadata": {
        "id": "miFHNqp29nOL"
      },
      "execution_count": null,
      "outputs": []
    },
    {
      "cell_type": "markdown",
      "source": [
        "Ahora vamos a colectar las notas y promedios de cada alumno dentro del lazo `while`. Haremos un ejemplo con 3 promedios."
      ],
      "metadata": {
        "id": "W4KZPBJuIrut"
      }
    },
    {
      "cell_type": "code",
      "source": [
        "contador = 1\n",
        "while contador <= 3:\n",
        "  nota_1 = float (input ('Digita la primera nota: '))\n",
        "  nota_2 = float (input ('Digita la segunda nota: '))\n",
        "  print (f'El promedio del estudiante 1 es: {(nota_1 + nota_2)/2}')\n",
        "  contador += 1"
      ],
      "metadata": {
        "id": "9T5eCLFx9wk6",
        "outputId": "6bf4d108-8071-40d1-f650-e13533bc30ff",
        "colab": {
          "base_uri": "https://localhost:8080/"
        }
      },
      "execution_count": null,
      "outputs": [
        {
          "output_type": "stream",
          "name": "stdout",
          "text": [
            "Digita la primera nota: 8.5\n",
            "Digita la segunda nota: 5.7\n",
            "El promedio del estudiante 1 es: 7.1\n",
            "Digita la primera nota: 6.5\n",
            "Digita la segunda nota: 10\n",
            "El promedio del estudiante 1 es: 8.25\n",
            "Digita la primera nota: 9\n",
            "Digita la segunda nota: 7\n",
            "El promedio del estudiante 1 es: 8.0\n"
          ]
        }
      ]
    },
    {
      "cell_type": "code",
      "source": [],
      "metadata": {
        "id": "P6E0_dW-9lZ9"
      },
      "execution_count": null,
      "outputs": []
    },
    {
      "cell_type": "markdown",
      "source": [
        "## `FOR`"
      ],
      "metadata": {
        "id": "WgAIaENMMfCP"
      }
    },
    {
      "cell_type": "markdown",
      "source": [
        "El lazo `for` es un tipo de estructura de control de flujo en Python que permite iterar sobre un conjunto de elementos. Su estructura es:\n",
        "\n",
        "\n",
        "\n",
        "```\n",
        "for elemento in conjunto:\n",
        "    # codigo a ser ejecutado para cada elemento\n",
        "```\n",
        "\n",
        "El lazo `for` itera sobre cada elemento del conjunto especificado y ejecuta el bloque de código dentro del lazo para cada elemento. Cuando el lazo llega al final del conjunto, este se interrumpe y el programa continúa la ejecución después del lazo.\n",
        "\n"
      ],
      "metadata": {
        "id": "HxrSZoRAMh-x"
      }
    },
    {
      "cell_type": "markdown",
      "source": [
        "El conjunto lo podemos generar con la función incorporada [`range()`](https://docs.python.org/3/library/functions.html#func-range). Se trata de una función capaz de generar una secuencia de números enteros. La estructura de esta función es:\n",
        "\n",
        "```\n",
        "range(inicio, fin, paso)\n",
        "```\n",
        "\n",
        "Según la documentación, `range()` genera una secuencia de números enteros a partir del valor del parámetro `inicio` hasta el valor del parámetro `fin`, de acuerdo con el valor del parámetro `paso`. Si `inicio` no es especificado, el valor por defecto es `0`. Si `paso` no es especificado, el valor por defecto es `1`.\n",
        "\n",
        "\n"
      ],
      "metadata": {
        "id": "6VgjyoQtPHBM"
      }
    },
    {
      "cell_type": "markdown",
      "source": [
        "Vamos a recrear el mismo contador `while` con el lazo `for`."
      ],
      "metadata": {
        "id": "ryn0hfdlUwC8"
      }
    },
    {
      "cell_type": "code",
      "source": [
        "for n in range(1, 11):\n",
        "  print(n)"
      ],
      "metadata": {
        "id": "KkL1wUIj9jL4",
        "outputId": "8ac7de94-18e9-4f5e-ffae-bd1200898515",
        "colab": {
          "base_uri": "https://localhost:8080/"
        }
      },
      "execution_count": null,
      "outputs": [
        {
          "output_type": "stream",
          "name": "stdout",
          "text": [
            "1\n",
            "2\n",
            "3\n",
            "4\n",
            "5\n",
            "6\n",
            "7\n",
            "8\n",
            "9\n",
            "10\n"
          ]
        }
      ]
    },
    {
      "cell_type": "code",
      "source": [
        "for e in range(1,4):\n",
        "  nota_1 = float (input ('Digita la primera nota: '))\n",
        "  nota_2 = float (input ('Digita la segunda nota: '))\n",
        "  print (f'El promedio del estudiante 1 es: {(nota_1 + nota_2)/2}')"
      ],
      "metadata": {
        "id": "uXIZnLSr9jOu",
        "outputId": "6b21f716-b45c-4fb3-cea6-12a805aab87b",
        "colab": {
          "base_uri": "https://localhost:8080/"
        }
      },
      "execution_count": null,
      "outputs": [
        {
          "output_type": "stream",
          "name": "stdout",
          "text": [
            "Digita la primera nota: 7\n",
            "Digita la segunda nota: 8\n",
            "El promedio del estudiante 1 es: 7.5\n",
            "Digita la primera nota: 8\n",
            "Digita la segunda nota: 9\n",
            "El promedio del estudiante 1 es: 8.5\n",
            "Digita la primera nota: 10\n",
            "Digita la segunda nota: 5\n",
            "El promedio del estudiante 1 es: 7.5\n"
          ]
        }
      ]
    },
    {
      "cell_type": "markdown",
      "source": [
        "# Estructuras de datos"
      ],
      "metadata": {
        "id": "8noP8OJ0Vhux"
      }
    },
    {
      "cell_type": "markdown",
      "source": [
        "Un conjunto de elementos es una colección de items, que son almacenados juntos de manera organizada. Algunos ejemplos de conjuntos de elementos en Python son las listas, los strings y los diccionarios."
      ],
      "metadata": {
        "id": "xpEUkefTu8fY"
      }
    },
    {
      "cell_type": "markdown",
      "source": [
        "## Listas"
      ],
      "metadata": {
        "id": "THSg4KYLwxIb"
      }
    },
    {
      "cell_type": "markdown",
      "source": [
        "Las listas pueden almacenar una colección de items en orden. Ellas son delimitadas por corchetes `[]` y sus elementos son separados por comas.\n",
        "\n",
        "Estas pueden almacenar cualquier tipo de items, incluyendo números, strings, objetos, otras listas, entre otros. También nos permiten almacenar items de tipos de datos diferentes juntos en una única lista."
      ],
      "metadata": {
        "id": "dzpsiqrOyJcK"
      }
    },
    {
      "cell_type": "code",
      "source": [
        "lista = ['Penélope Camacho',9.5,9.0,9.7,True]\n",
        "lista"
      ],
      "metadata": {
        "id": "DO3TBj7nAYeG",
        "colab": {
          "base_uri": "https://localhost:8080/"
        },
        "outputId": "3b14b88a-f47d-462e-f0bb-56dbeb888525"
      },
      "execution_count": 2,
      "outputs": [
        {
          "output_type": "execute_result",
          "data": {
            "text/plain": [
              "['Penélope Camacho', 9.5, 9.0, 9.7, True]"
            ]
          },
          "metadata": {},
          "execution_count": 2
        }
      ]
    },
    {
      "cell_type": "code",
      "source": [
        "type(lista)\n"
      ],
      "metadata": {
        "id": "DO2ubP9N9D_2",
        "outputId": "645c25b8-5851-4c97-9035-847e5069a071",
        "colab": {
          "base_uri": "https://localhost:8080/"
        }
      },
      "execution_count": 3,
      "outputs": [
        {
          "output_type": "execute_result",
          "data": {
            "text/plain": [
              "list"
            ]
          },
          "metadata": {},
          "execution_count": 3
        }
      ]
    },
    {
      "cell_type": "markdown",
      "source": [
        "Las listas son organizadas en Python porque **cada elemento de la lista tiene un índice que indica su posición al interior de la lista**. Los índices comienzan en 0 van hasta el tamaño de la lista menos 1."
      ],
      "metadata": {
        "id": "qUz3sJNl6LgK"
      }
    },
    {
      "cell_type": "markdown",
      "source": [
        "Tenemos entonces 5 elementos con índices que varían de 0 a 4, ordenadamente:\n",
        "\n",
        "```\n",
        "#             [0]           [1]   [2]   [3]    [4]\n",
        "lista = ['Penélope Camacho', 9.5 , 9.0 , 9.7 , True]\n",
        "```\n",
        "\n",
        "En Python tenemos también los índices **negativos** que se inician en el último elemento con el valor de `-1` y avanzan en el universo de los negativos hasta llegar al 1° elemento:\n",
        "\n",
        "```\n",
        "#             [-5]         [-4]  [-3]  [-2]   [-1]\n",
        "lista = ['Penélope Camacho', 9.5 , 9.0 , 9.7 , True]\n",
        "```\n",
        "\n",
        "Logramos seleccionar separadamente cada elemento a través de sus respectivos índices. Colocando el nombre de la lista y en seguida el índice que será seleccionado."
      ],
      "metadata": {
        "id": "rLf-Qg526hFD"
      }
    },
    {
      "cell_type": "code",
      "source": [
        "type(lista[0])"
      ],
      "metadata": {
        "id": "4hco1Zqy88Kw",
        "outputId": "26d1d92e-b10c-4143-e599-822755127357",
        "colab": {
          "base_uri": "https://localhost:8080/"
        }
      },
      "execution_count": 5,
      "outputs": [
        {
          "output_type": "execute_result",
          "data": {
            "text/plain": [
              "str"
            ]
          },
          "metadata": {},
          "execution_count": 5
        }
      ]
    },
    {
      "cell_type": "code",
      "source": [
        "type(lista[1])"
      ],
      "metadata": {
        "id": "M8lH0I2288Ph",
        "outputId": "8e0dd65e-cf31-4675-e9e5-365d97ad7e72",
        "colab": {
          "base_uri": "https://localhost:8080/"
        }
      },
      "execution_count": 6,
      "outputs": [
        {
          "output_type": "execute_result",
          "data": {
            "text/plain": [
              "float"
            ]
          },
          "metadata": {},
          "execution_count": 6
        }
      ]
    },
    {
      "cell_type": "code",
      "source": [
        "type(lista[-1])"
      ],
      "metadata": {
        "id": "_Hm7PUtqpc7s",
        "outputId": "fc57e2e8-9a8a-4a9e-8567-ccfeda87322d",
        "colab": {
          "base_uri": "https://localhost:8080/"
        }
      },
      "execution_count": 7,
      "outputs": [
        {
          "output_type": "execute_result",
          "data": {
            "text/plain": [
              "bool"
            ]
          },
          "metadata": {},
          "execution_count": 7
        }
      ]
    },
    {
      "cell_type": "markdown",
      "source": [
        "Una forma más dinámica de trabajar item a item en una lista es utilizando un lazo `for` para leer un elemento a la vez."
      ],
      "metadata": {
        "id": "6TaE1ijmBTCd"
      }
    },
    {
      "cell_type": "code",
      "source": [
        "for elemento in lista:\n",
        "  print(elemento)"
      ],
      "metadata": {
        "id": "rBx4Yu1786Sy",
        "outputId": "7ee1ede5-d59d-4e7a-836a-33e077061f36",
        "colab": {
          "base_uri": "https://localhost:8080/"
        }
      },
      "execution_count": 8,
      "outputs": [
        {
          "output_type": "stream",
          "name": "stdout",
          "text": [
            "Penélope Camacho\n",
            "9.5\n",
            "9.0\n",
            "9.7\n",
            "True\n"
          ]
        }
      ]
    },
    {
      "cell_type": "markdown",
      "source": [
        "**Situación**: La nota `9.0` de Penélope necesita ser ajustada pues ganó 1 punto en su última nota por participación en clase. Entonces es necesario realizar un cambio en el índice `2` de `9.0` a `10.0`."
      ],
      "metadata": {
        "id": "Dh1_HnIVvucY"
      }
    },
    {
      "cell_type": "code",
      "source": [
        "lista[2] = 10.0"
      ],
      "metadata": {
        "id": "bVPoZg668z3T"
      },
      "execution_count": 10,
      "outputs": []
    },
    {
      "cell_type": "code",
      "source": [
        "lista"
      ],
      "metadata": {
        "id": "Jo_PBQ0g8z7D",
        "outputId": "f5e957c2-8fd4-4ded-8d68-7e85c778f33f",
        "colab": {
          "base_uri": "https://localhost:8080/"
        }
      },
      "execution_count": 11,
      "outputs": [
        {
          "output_type": "execute_result",
          "data": {
            "text/plain": [
              "['Penélope Camacho', 9.5, 10.0, 9.7, True]"
            ]
          },
          "metadata": {},
          "execution_count": 11
        }
      ]
    },
    {
      "cell_type": "markdown",
      "source": [
        "También podemos calcular el promedio del estudiante a partir de los datos que tenemos."
      ],
      "metadata": {
        "id": "53XduzXkycAf"
      }
    },
    {
      "cell_type": "code",
      "source": [
        "promedio = (lista[1]+lista[2]+lista[3])/3\n",
        "promedio"
      ],
      "metadata": {
        "id": "SIH61Rrb8yv4",
        "outputId": "eacb888d-f5f3-47e4-b2aa-4f1fa9cda93f",
        "colab": {
          "base_uri": "https://localhost:8080/"
        }
      },
      "execution_count": 14,
      "outputs": [
        {
          "output_type": "execute_result",
          "data": {
            "text/plain": [
              "9.733333333333333"
            ]
          },
          "metadata": {},
          "execution_count": 14
        }
      ]
    },
    {
      "cell_type": "markdown",
      "source": [
        "## Manipulación de listas\n",
        "\n",
        "Las listas son muy útiles en Python porque nos permiten almacenar y acceder a una colección de items de manera organizada y rápida. Estas también ofrecen muchos métodos útiles para manipular los itens almacenados, como adicionar, remover, clasificar y buscar elementos."
      ],
      "metadata": {
        "id": "d-iYr10-y4qw"
      }
    },
    {
      "cell_type": "markdown",
      "source": [
        "#### Cantidad de elementos\n",
        "\n",
        "Usamos la función [`len()`](https://docs.python.org/3/library/functions.html#len) para descubrir la cantidad de elementos de un conjunto."
      ],
      "metadata": {
        "id": "ZLqx9A97XVB_"
      }
    },
    {
      "cell_type": "code",
      "source": [
        "len(lista)"
      ],
      "metadata": {
        "id": "6q1Tmm7P8wQf",
        "outputId": "c33c1d1c-4ebc-49b1-8167-15a418f1cb6e",
        "colab": {
          "base_uri": "https://localhost:8080/"
        }
      },
      "execution_count": 15,
      "outputs": [
        {
          "output_type": "execute_result",
          "data": {
            "text/plain": [
              "5"
            ]
          },
          "metadata": {},
          "execution_count": 15
        }
      ]
    },
    {
      "cell_type": "markdown",
      "source": [
        "#### Partición\n",
        "\n",
        "La partición de listas por indexación en Python es una técnica muy útil para seleccionar un subconjunto de elementos de una lista. Esta se realiza usando la sintaxis `lista[inicio:fin]`, donde `inicio` es el índice del primer elemento que será incluído en la partición `fin` es el índice del primer elemento que será excluído de la partición."
      ],
      "metadata": {
        "id": "Z5tpstlHJss3"
      }
    },
    {
      "cell_type": "code",
      "source": [
        "lista[0:2]"
      ],
      "metadata": {
        "id": "NctvJTTU8uV9",
        "outputId": "16d5dfe3-e260-46cf-d3f8-5a1b46d64d16",
        "colab": {
          "base_uri": "https://localhost:8080/"
        }
      },
      "execution_count": 16,
      "outputs": [
        {
          "output_type": "execute_result",
          "data": {
            "text/plain": [
              "['Penélope Camacho', 9.5]"
            ]
          },
          "metadata": {},
          "execution_count": 16
        }
      ]
    },
    {
      "cell_type": "code",
      "source": [
        "lista[:3]"
      ],
      "metadata": {
        "id": "bQZUwldj8uY2",
        "outputId": "1db6955f-4a1e-4201-cb27-034742966ec8",
        "colab": {
          "base_uri": "https://localhost:8080/"
        }
      },
      "execution_count": 17,
      "outputs": [
        {
          "output_type": "execute_result",
          "data": {
            "text/plain": [
              "['Penélope Camacho', 9.5, 10.0]"
            ]
          },
          "metadata": {},
          "execution_count": 17
        }
      ]
    },
    {
      "cell_type": "code",
      "source": [
        "lista[3:]"
      ],
      "metadata": {
        "id": "y7ce6Un7r0up",
        "outputId": "49f11c97-4b1f-472c-96d9-d75026db455c",
        "colab": {
          "base_uri": "https://localhost:8080/"
        }
      },
      "execution_count": 18,
      "outputs": [
        {
          "output_type": "execute_result",
          "data": {
            "text/plain": [
              "[9.7, True]"
            ]
          },
          "metadata": {},
          "execution_count": 18
        }
      ]
    },
    {
      "cell_type": "code",
      "source": [
        "#me muestra la lista completa\n",
        "lista[:]"
      ],
      "metadata": {
        "id": "HZ_6Jgrxr5E-",
        "outputId": "841b7a16-2331-46c0-b59e-b2c8f899a0f5",
        "colab": {
          "base_uri": "https://localhost:8080/"
        }
      },
      "execution_count": 21,
      "outputs": [
        {
          "output_type": "execute_result",
          "data": {
            "text/plain": [
              "['Penélope Camacho', 9.5, 10.0, 9.7, True]"
            ]
          },
          "metadata": {},
          "execution_count": 21
        }
      ]
    },
    {
      "cell_type": "markdown",
      "source": [
        "#### [`append()`](https://docs.python.org/3/tutorial/datastructures.html#:~:text=of%20list%20objects%3A-,list.append(x),-Add%20an%20item)\n",
        "\n",
        "Añade un elemento al final de la lista."
      ],
      "metadata": {
        "id": "O0RRyabkRzZC"
      }
    },
    {
      "cell_type": "code",
      "source": [
        "lista.append(promedio)"
      ],
      "metadata": {
        "id": "_Q0oODwa8spC"
      },
      "execution_count": 23,
      "outputs": []
    },
    {
      "cell_type": "code",
      "source": [
        "lista"
      ],
      "metadata": {
        "id": "RM894r2M8sse",
        "outputId": "a0b70e80-67f5-4d3d-f7f8-ca564314f2aa",
        "colab": {
          "base_uri": "https://localhost:8080/"
        }
      },
      "execution_count": 24,
      "outputs": [
        {
          "output_type": "execute_result",
          "data": {
            "text/plain": [
              "['Penélope Camacho', 9.5, 10.0, 9.7, True, 9.733333333333333]"
            ]
          },
          "metadata": {},
          "execution_count": 24
        }
      ]
    },
    {
      "cell_type": "markdown",
      "source": [
        "#### [`extend()`](https://docs.python.org/3/tutorial/datastructures.html#:~:text=list.extend(iterable))\n",
        "\n",
        "Añade varios elementos al final de la lista.\n",
        "\n",
        "Añadiremos las notas `[10.0,8.0,9.0]` En la lista de Penélope Camacho."
      ],
      "metadata": {
        "id": "uQV91XMsUOJD"
      }
    },
    {
      "cell_type": "code",
      "source": [
        "lista.extend([10.0, 8.0, 9.0])"
      ],
      "metadata": {
        "id": "6Zk2MpMw8rQc"
      },
      "execution_count": 26,
      "outputs": []
    },
    {
      "cell_type": "code",
      "source": [
        "lista"
      ],
      "metadata": {
        "id": "NnoKkoWb8rTQ",
        "outputId": "4fc4a87c-3e26-45cc-b687-ba410db5539d",
        "colab": {
          "base_uri": "https://localhost:8080/"
        }
      },
      "execution_count": 27,
      "outputs": [
        {
          "output_type": "execute_result",
          "data": {
            "text/plain": [
              "['Penélope Camacho', 9.5, 10.0, 9.7, True, 9.733333333333333, 10.0, 8.0, 9.0]"
            ]
          },
          "metadata": {},
          "execution_count": 27
        }
      ]
    },
    {
      "cell_type": "markdown",
      "source": [
        "*A continuación te mostraremos lo que no puede realizarse con* `append`."
      ],
      "metadata": {
        "id": "IVJvkTwNUk6M"
      }
    },
    {
      "cell_type": "code",
      "source": [
        "lista.append([10.0, 8.0, 9.0])"
      ],
      "metadata": {
        "id": "u3Eub2ZL8pp3"
      },
      "execution_count": 28,
      "outputs": []
    },
    {
      "cell_type": "code",
      "source": [
        "lista"
      ],
      "metadata": {
        "id": "tsKK5Ne58pvN",
        "outputId": "e39071f6-721e-4c7e-9093-d02cedad239f",
        "colab": {
          "base_uri": "https://localhost:8080/"
        }
      },
      "execution_count": 29,
      "outputs": [
        {
          "output_type": "execute_result",
          "data": {
            "text/plain": [
              "['Penélope Camacho',\n",
              " 9.5,\n",
              " 10.0,\n",
              " 9.7,\n",
              " True,\n",
              " 9.733333333333333,\n",
              " 10.0,\n",
              " 8.0,\n",
              " 9.0,\n",
              " [10.0, 8.0, 9.0]]"
            ]
          },
          "metadata": {},
          "execution_count": 29
        }
      ]
    },
    {
      "cell_type": "markdown",
      "source": [
        "#### [`remove()`](https://docs.python.org/3/tutorial/datastructures.html#:~:text=append(x).-,list.remove(x),-Remove%20the%20first)\n",
        "\n",
        "Remueve un elemento específico de la lista."
      ],
      "metadata": {
        "id": "dPGM5gpyUX1z"
      }
    },
    {
      "cell_type": "code",
      "source": [
        "lista.remove([10.0, 8.0, 9.0])"
      ],
      "metadata": {
        "id": "mmboODPc8nd5"
      },
      "execution_count": 30,
      "outputs": []
    },
    {
      "cell_type": "code",
      "source": [
        "lista"
      ],
      "metadata": {
        "id": "T_w6vVgV8nh_",
        "outputId": "d615bec2-047e-49df-bb29-8d855edb35b0",
        "colab": {
          "base_uri": "https://localhost:8080/"
        }
      },
      "execution_count": 31,
      "outputs": [
        {
          "output_type": "execute_result",
          "data": {
            "text/plain": [
              "['Penélope Camacho', 9.5, 10.0, 9.7, True, 9.733333333333333, 10.0, 8.0, 9.0]"
            ]
          },
          "metadata": {},
          "execution_count": 31
        }
      ]
    },
    {
      "cell_type": "markdown",
      "source": [
        "## Diccionario"
      ],
      "metadata": {
        "id": "Rc22Vc08YDZ2"
      }
    },
    {
      "cell_type": "markdown",
      "source": [
        "Los diccionarios son un tipo de estructura de datos que almacenan pares de *llave-valor*. Estos son delimitados por llaves `{}` y los pares *llave-valor* son separados por comas.\n",
        "\n",
        "```\n",
        "diccionario = {llave: valor}\n",
        "```\n",
        "\n",
        "La **llave** es un elemento único que identifica a un valor en el diccionario, mientras que el **valor** es el item que será almacenado para la llave. Las llaves y sus respectivos valores se pueden emplear para **cualquier tipo de dato**.\n",
        "\n",
        "Los diccionarios son útiles para almacenar y acceder a los datos de manera organizada y rápida. Se trata de un tipo de conjunto de elementos en Python, pues almacenan una colección de items."
      ],
      "metadata": {
        "id": "PJ-cCKPjeWxL"
      }
    },
    {
      "cell_type": "code",
      "source": [
        "diccionario = {'llave_1':1,\n",
        "               'llave_2': 2}\n",
        "diccionario"
      ],
      "metadata": {
        "id": "NDHhzooE8ld5",
        "outputId": "d55f98b7-d611-46ac-cc59-5bd53b698cbe",
        "colab": {
          "base_uri": "https://localhost:8080/"
        }
      },
      "execution_count": 32,
      "outputs": [
        {
          "output_type": "execute_result",
          "data": {
            "text/plain": [
              "{'llave_1': 1, 'llave_2': 2}"
            ]
          },
          "metadata": {},
          "execution_count": 32
        }
      ]
    },
    {
      "cell_type": "code",
      "source": [
        "type(diccionario)"
      ],
      "metadata": {
        "id": "AVOzqzy-8lhh",
        "outputId": "d7ec7581-5f0a-43eb-e2a2-76990638d590",
        "colab": {
          "base_uri": "https://localhost:8080/"
        }
      },
      "execution_count": 33,
      "outputs": [
        {
          "output_type": "execute_result",
          "data": {
            "text/plain": [
              "dict"
            ]
          },
          "metadata": {},
          "execution_count": 33
        }
      ]
    },
    {
      "cell_type": "markdown",
      "source": [
        "---\n",
        "**Situación:**\n",
        "\n",
        "Vamos a crear un conjunto de datos con las informaciones de matrícula de un estudiante. Los datos son los siguientes:\n",
        "\n",
        "- matrícula: 2000168933\n",
        "- día de registro: 25\n",
        "- mes de registro: 10\n",
        "- grupo: 2E"
      ],
      "metadata": {
        "id": "_JbQ3KMKfkXU"
      }
    },
    {
      "cell_type": "code",
      "source": [
        "estudiante = {\n",
        "              'matricula': 2000168933,\n",
        "              'día de registro': 25,\n",
        "              'mes de registro': 10,\n",
        "              'grupo': '2E'\n",
        "              }\n",
        "estudiante"
      ],
      "metadata": {
        "id": "0lfOu_c38jED",
        "outputId": "b569c216-4b04-4456-a97a-f344d2f47603",
        "colab": {
          "base_uri": "https://localhost:8080/"
        }
      },
      "execution_count": 35,
      "outputs": [
        {
          "output_type": "execute_result",
          "data": {
            "text/plain": [
              "{'matricula': 2000168933,\n",
              " 'día de registro': 25,\n",
              " 'mes de registro': 10,\n",
              " 'grupo': '2E'}"
            ]
          },
          "metadata": {},
          "execution_count": 35
        }
      ]
    },
    {
      "cell_type": "code",
      "source": [
        "estudiante['matricula']"
      ],
      "metadata": {
        "id": "XIuqpTTy8jHV",
        "outputId": "741e9214-f93f-4337-b604-6f8b7be842c2",
        "colab": {
          "base_uri": "https://localhost:8080/"
        }
      },
      "execution_count": 36,
      "outputs": [
        {
          "output_type": "execute_result",
          "data": {
            "text/plain": [
              "2000168933"
            ]
          },
          "metadata": {},
          "execution_count": 36
        }
      ]
    },
    {
      "cell_type": "code",
      "source": [
        "estudiante['grupo']"
      ],
      "metadata": {
        "id": "WRRbsdjUvf-9",
        "outputId": "91d12036-39cd-4082-9fe7-f3c4de709de4",
        "colab": {
          "base_uri": "https://localhost:8080/",
          "height": 35
        }
      },
      "execution_count": 37,
      "outputs": [
        {
          "output_type": "execute_result",
          "data": {
            "text/plain": [
              "'2E'"
            ],
            "application/vnd.google.colaboratory.intrinsic+json": {
              "type": "string"
            }
          },
          "metadata": {},
          "execution_count": 37
        }
      ]
    },
    {
      "cell_type": "markdown",
      "source": [
        "Es posible sustituir los valores dentro de una llave. Por ejemplo, recibimos la información de que el grupo del estudiante que registramos cambio a `'2G'` y ahora necesitamos cambiar el valor de la llave `'grupo'`."
      ],
      "metadata": {
        "id": "8ex5pt2ykDd2"
      }
    },
    {
      "cell_type": "code",
      "source": [
        "estudiante['grupo'] = '2G'"
      ],
      "metadata": {
        "id": "kQGlp36b8fyP"
      },
      "execution_count": 38,
      "outputs": []
    },
    {
      "cell_type": "code",
      "source": [
        "estudiante"
      ],
      "metadata": {
        "id": "DnfH_qHi8f17",
        "outputId": "28c63b35-1b05-4600-bc68-54940be32952",
        "colab": {
          "base_uri": "https://localhost:8080/"
        }
      },
      "execution_count": 39,
      "outputs": [
        {
          "output_type": "execute_result",
          "data": {
            "text/plain": [
              "{'matricula': 2000168933,\n",
              " 'día de registro': 25,\n",
              " 'mes de registro': 10,\n",
              " 'grupo': '2G'}"
            ]
          },
          "metadata": {},
          "execution_count": 39
        }
      ]
    },
    {
      "cell_type": "markdown",
      "source": [
        "También podemos añadir otros datos al diccionario. Vamos a añadir la información sobre la modalidad de estudio, nuestro estudiante estudiará inicialemente en la modalidad EAD.\n",
        "\n",
        "Definiremos una llave llamada `'modalidad'` con el valor `'EAD'`."
      ],
      "metadata": {
        "id": "wB0qRb56mQvv"
      }
    },
    {
      "cell_type": "code",
      "source": [
        "estudiante['modalidad'] = 'EAD'"
      ],
      "metadata": {
        "id": "EeLYdlIm8d8a"
      },
      "execution_count": 41,
      "outputs": []
    },
    {
      "cell_type": "code",
      "source": [
        "estudiante"
      ],
      "metadata": {
        "id": "olDIavsm8d_o",
        "outputId": "5e0fd38c-873e-439c-e2f0-eb9da3468ef7",
        "colab": {
          "base_uri": "https://localhost:8080/"
        }
      },
      "execution_count": 42,
      "outputs": [
        {
          "output_type": "execute_result",
          "data": {
            "text/plain": [
              "{'matricula': 2000168933,\n",
              " 'día de registro': 25,\n",
              " 'mes de registro': 10,\n",
              " 'grupo': '2G',\n",
              " 'modalidad': 'EAD'}"
            ]
          },
          "metadata": {},
          "execution_count": 42
        }
      ]
    },
    {
      "cell_type": "code",
      "source": [
        "len(estudiante)"
      ],
      "metadata": {
        "id": "ejH-qW4Bv-E2",
        "outputId": "ed962122-2049-4e31-f32f-5164c9ca5639",
        "colab": {
          "base_uri": "https://localhost:8080/"
        }
      },
      "execution_count": 43,
      "outputs": [
        {
          "output_type": "execute_result",
          "data": {
            "text/plain": [
              "5"
            ]
          },
          "metadata": {},
          "execution_count": 43
        }
      ]
    },
    {
      "cell_type": "markdown",
      "source": [
        "## Profundizando en diccionarios"
      ],
      "metadata": {
        "id": "LJ3o_inroxg_"
      }
    },
    {
      "cell_type": "markdown",
      "source": [
        "#### [`pop()`](https://python-reference.readthedocs.io/en/latest/docs/dict/pop.html)\n",
        "Remueve un item de un diccionario y lo representa en la salida."
      ],
      "metadata": {
        "id": "2N3GLlkSpBiu"
      }
    },
    {
      "cell_type": "code",
      "source": [
        "estudiante.pop('grupo')"
      ],
      "metadata": {
        "id": "ZsSCZx6G8b-T",
        "outputId": "e61eec97-910b-4baf-e5a0-b9c9d5c61e56",
        "colab": {
          "base_uri": "https://localhost:8080/",
          "height": 35
        }
      },
      "execution_count": 44,
      "outputs": [
        {
          "output_type": "execute_result",
          "data": {
            "text/plain": [
              "'2G'"
            ],
            "application/vnd.google.colaboratory.intrinsic+json": {
              "type": "string"
            }
          },
          "metadata": {},
          "execution_count": 44
        }
      ]
    },
    {
      "cell_type": "code",
      "source": [
        "estudiante"
      ],
      "metadata": {
        "id": "7lQ8_jpi8cBR",
        "outputId": "2d003d4a-ac2c-42da-de1c-794f31a75996",
        "colab": {
          "base_uri": "https://localhost:8080/"
        }
      },
      "execution_count": 45,
      "outputs": [
        {
          "output_type": "execute_result",
          "data": {
            "text/plain": [
              "{'matricula': 2000168933,\n",
              " 'día de registro': 25,\n",
              " 'mes de registro': 10,\n",
              " 'modalidad': 'EAD'}"
            ]
          },
          "metadata": {},
          "execution_count": 45
        }
      ]
    },
    {
      "cell_type": "markdown",
      "source": [
        "#### [`items()`](https://python-reference.readthedocs.io/en/latest/docs/dict/items.html)\n",
        "Retorna una lista de pares `llave-valor` del diccionario."
      ],
      "metadata": {
        "id": "sYZGvJJYrW_y"
      }
    },
    {
      "cell_type": "code",
      "source": [
        "estudiante.items()"
      ],
      "metadata": {
        "id": "ncdycLV08an7",
        "outputId": "faadc219-05a8-4919-d553-34d7e4aa1bf2",
        "colab": {
          "base_uri": "https://localhost:8080/"
        }
      },
      "execution_count": 46,
      "outputs": [
        {
          "output_type": "execute_result",
          "data": {
            "text/plain": [
              "dict_items([('matricula', 2000168933), ('día de registro', 25), ('mes de registro', 10), ('modalidad', 'EAD')])"
            ]
          },
          "metadata": {},
          "execution_count": 46
        }
      ]
    },
    {
      "cell_type": "markdown",
      "source": [
        "#### [`keys()`](https://python-reference.readthedocs.io/en/latest/docs/dict/keys.html)\n",
        "Retorna una lista de las llaves del diccionario."
      ],
      "metadata": {
        "id": "Lb0utNFGrZBY"
      }
    },
    {
      "cell_type": "code",
      "source": [
        "estudiante.keys()"
      ],
      "metadata": {
        "id": "eZo0biaM8ZVs",
        "outputId": "a265fe86-2d48-49be-adc6-c0ea2cc222a2",
        "colab": {
          "base_uri": "https://localhost:8080/"
        }
      },
      "execution_count": 47,
      "outputs": [
        {
          "output_type": "execute_result",
          "data": {
            "text/plain": [
              "dict_keys(['matricula', 'día de registro', 'mes de registro', 'modalidad'])"
            ]
          },
          "metadata": {},
          "execution_count": 47
        }
      ]
    },
    {
      "cell_type": "markdown",
      "source": [
        "#### [`values()`](https://python-reference.readthedocs.io/en/latest/docs/dict/values.html)\n",
        "Retorna una lista de los valores del diccionario."
      ],
      "metadata": {
        "id": "qKyu3bf9rbtX"
      }
    },
    {
      "cell_type": "code",
      "source": [
        "estudiante.values()"
      ],
      "metadata": {
        "id": "-NxRT9C18Yvo",
        "outputId": "a2271d99-9d0b-43b1-eb8d-a0b2c7f847cd",
        "colab": {
          "base_uri": "https://localhost:8080/"
        }
      },
      "execution_count": 49,
      "outputs": [
        {
          "output_type": "execute_result",
          "data": {
            "text/plain": [
              "dict_values([2000168933, 25, 10, 'EAD'])"
            ]
          },
          "metadata": {},
          "execution_count": 49
        }
      ]
    },
    {
      "cell_type": "markdown",
      "source": [
        "### Lectura de valores con el lazo `for`"
      ],
      "metadata": {
        "id": "e3XVjR8Frp75"
      }
    },
    {
      "cell_type": "code",
      "source": [
        "for llave in estudiante.keys():\n",
        "  print(llave)"
      ],
      "metadata": {
        "id": "NYcjU-Ip8Xan",
        "outputId": "533c767d-5c88-4ec3-b9ae-e7f672e2cde2",
        "colab": {
          "base_uri": "https://localhost:8080/"
        }
      },
      "execution_count": 50,
      "outputs": [
        {
          "output_type": "stream",
          "name": "stdout",
          "text": [
            "matricula\n",
            "día de registro\n",
            "mes de registro\n",
            "modalidad\n"
          ]
        }
      ]
    },
    {
      "cell_type": "code",
      "source": [
        "for llave, valor in estudiante.items():\n",
        "  print(llave, '-->', valor)"
      ],
      "metadata": {
        "id": "aAnpP1Wv8XfJ",
        "outputId": "4c3b9089-37a8-4987-f13c-3e4f5a82be9b",
        "colab": {
          "base_uri": "https://localhost:8080/"
        }
      },
      "execution_count": 51,
      "outputs": [
        {
          "output_type": "stream",
          "name": "stdout",
          "text": [
            "matricula --> 2000168933\n",
            "día de registro --> 25\n",
            "mes de registro --> 10\n",
            "modalidad --> EAD\n"
          ]
        }
      ]
    }
  ]
}